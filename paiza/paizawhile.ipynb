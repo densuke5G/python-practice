{
 "cells": [
  {
   "cell_type": "markdown",
   "metadata": {},
   "source": [
    "この条件式は「変数 i の示す値がリスト li の長さ 未満 かどうか」という条件を意味している\n",
    "\n",
    "なぜ 未満 かというと、長さ n のリストの要素のインデックスとしてあり得る整数 i は 0 <= i <= n-1 だから"
   ]
  },
  {
   "cell_type": "code",
   "execution_count": 1,
   "metadata": {},
   "outputs": [
    {
     "name": "stdout",
     "output_type": "stream",
     "text": [
      "0\n",
      "1\n",
      "2\n"
     ]
    }
   ],
   "source": [
    "li = [8, 1, 3]\n",
    "i = 0\n",
    "\n",
    "while i < len(li):\n",
    "    print(li[i])\n",
    "    i += 1"
   ]
  },
  {
   "cell_type": "markdown",
   "metadata": {},
   "source": [
    "while 文では、条件式が成立する限り処理が繰り返されるため、条件式を間違えると、無限ループに陥ることがある"
   ]
  },
  {
   "cell_type": "markdown",
   "metadata": {},
   "source": [
    "break 文はよく if 文と一緒に使われる\n"
   ]
  },
  {
   "cell_type": "code",
   "execution_count": 2,
   "metadata": {},
   "outputs": [
    {
     "name": "stdout",
     "output_type": "stream",
     "text": [
      "kirishima\n",
      "kyoko\n",
      "paiza\n"
     ]
    }
   ],
   "source": [
    "li = [\"kirishima\", \"kyoko\", \"paiza\", \"813\", \"Hello world\"]\n",
    "\n",
    "i = 0\n",
    "while i < len(li):\n",
    "    print(li[i])\n",
    "\n",
    "    # 以下にコードを追加\n",
    "    if li[i] == \"paiza\":\n",
    "        break\n",
    "    i += 1"
   ]
  },
  {
   "cell_type": "markdown",
   "metadata": {},
   "source": [
    "continue 文を使うと、while 文によるループ処理を 1 周スキップできる"
   ]
  },
  {
   "cell_type": "code",
   "execution_count": 3,
   "metadata": {},
   "outputs": [
    {
     "name": "stdout",
     "output_type": "stream",
     "text": [
      "2\n",
      "4\n"
     ]
    }
   ],
   "source": [
    "i = 0\n",
    "while i < 5:\n",
    "    i += 1\n",
    "    \n",
    "    # 以下にコードを追加\n",
    "    if i % 2 == 1:\n",
    "        continue\n",
    "    print(i)"
   ]
  },
  {
   "cell_type": "markdown",
   "metadata": {},
   "source": [
    "内側のループ処理で break 文が実行されても外側のループ処理を脱出することはなく、continue 文が実行されても外側のループ処理をスキップすることはない"
   ]
  },
  {
   "cell_type": "code",
   "execution_count": 4,
   "metadata": {},
   "outputs": [
    {
     "name": "stdout",
     "output_type": "stream",
     "text": [
      "kirishima\n",
      "kirishima\n",
      "kirishima\n",
      "kyoko\n",
      "kyoko\n",
      "kyoko\n",
      "paiza\n",
      "paiza\n",
      "paiza\n"
     ]
    }
   ],
   "source": [
    "li = [\"kirishima\", \"kyoko\", \"paiza\"]\n",
    "\n",
    "i = 0\n",
    "while i < len(li):\n",
    "    # 以下にコードを追加\n",
    "    j = 0\n",
    "    while j < 3:\n",
    "        print(li[i])\n",
    "        j += 1\n",
    "    i += 1"
   ]
  }
 ],
 "metadata": {
  "kernelspec": {
   "display_name": "base",
   "language": "python",
   "name": "python3"
  },
  "language_info": {
   "codemirror_mode": {
    "name": "ipython",
    "version": 3
   },
   "file_extension": ".py",
   "mimetype": "text/x-python",
   "name": "python",
   "nbconvert_exporter": "python",
   "pygments_lexer": "ipython3",
   "version": "3.10.9"
  },
  "orig_nbformat": 4
 },
 "nbformat": 4,
 "nbformat_minor": 2
}
