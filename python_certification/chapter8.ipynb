{
 "cells": [
  {
   "cell_type": "code",
   "execution_count": null,
   "metadata": {},
   "outputs": [],
   "source": []
  },
  {
   "cell_type": "markdown",
   "metadata": {},
   "source": [
    "1.open()バイナリモード\n",
    "B?\n",
    "正解：B\n",
    "open(\"ファイル名\", \"モード\")\n",
    "r 読み込み\n",
    "r+ 読み書き\n",
    "w 新規書き込み\n",
    "a 追加書き込み\n",
    "b バイナリモード"
   ]
  },
  {
   "cell_type": "markdown",
   "metadata": {},
   "source": [
    "2.おぺｎ\n",
    "Ｄ？\n",
    "正解：D\n",
    "読み込みはfp.read()"
   ]
  },
  {
   "cell_type": "markdown",
   "metadata": {},
   "source": [
    "3.閉じるタイミング\n",
    "Ｄ？\n",
    "不正解：C\n",
    "閉じる時、close()\n",
    "プログラムが終了する時にファイルは閉じられる\n",
    "2でwith を使っても1は閉じられない"
   ]
  },
  {
   "cell_type": "markdown",
   "metadata": {},
   "source": [
    "4.１行ずつはreadline()?\n",
    "Ｂ？\n",
    "正解：B\n",
    "fpをファイルオブジェクトとした場合、for i in fp で１つづつ読み込める\n",
    "for s in fp.read() だと１文字ごとに読み込むことになる"
   ]
  },
  {
   "cell_type": "markdown",
   "metadata": {},
   "source": [
    "5.ファイルに出力\n",
    "Ｃ？\n",
    "不正解：D\n",
    "書き込みはfp.write()メソッド"
   ]
  },
  {
   "cell_type": "markdown",
   "metadata": {},
   "source": [
    "6.JSON出力\n",
    "B?\n",
    "正解：B\n",
    "JSON書き込みは.dump(データ, 対象)メソッド\n",
    "第一引数をJSONに変換する\n",
    "json.dumps(data)でJSONの文字列を返す"
   ]
  },
  {
   "cell_type": "markdown",
   "metadata": {},
   "source": [
    "7.JSON読み込み\n",
    "A?\n",
    "正解：A\n",
    "json.load() ファイルオブジェクトを取る\n",
    "json.loads() 文字列を取る\n",
    "\n",
    "loads 文字列→辞書へ\n",
    "dumps 辞書→文字列（JSON）へ"
   ]
  }
 ],
 "metadata": {
  "language_info": {
   "name": "python"
  }
 },
 "nbformat": 4,
 "nbformat_minor": 2
}
