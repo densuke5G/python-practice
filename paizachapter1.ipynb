{
 "cells": [
  {
   "cell_type": "code",
   "execution_count": 1,
   "metadata": {},
   "outputs": [
    {
     "name": "stdout",
     "output_type": "stream",
     "text": [
      "Hello paiza\n"
     ]
    }
   ],
   "source": [
    "print(\"Hello paiza\")"
   ]
  },
  {
   "cell_type": "code",
   "execution_count": 2,
   "metadata": {},
   "outputs": [
    {
     "name": "stdout",
     "output_type": "stream",
     "text": [
      "Hello paiza\n"
     ]
    }
   ],
   "source": [
    "print(\"Hello\", \"paiza\")"
   ]
  },
  {
   "cell_type": "code",
   "execution_count": 3,
   "metadata": {},
   "outputs": [
    {
     "name": "stdout",
     "output_type": "stream",
     "text": [
      "Hello,paiza\n"
     ]
    }
   ],
   "source": [
    "print(\"Hello\", end=\",\")\n",
    "print(\"paiza\")"
   ]
  },
  {
   "cell_type": "code",
   "execution_count": 4,
   "metadata": {},
   "outputs": [
    {
     "name": "stdout",
     "output_type": "stream",
     "text": [
      "8\n"
     ]
    }
   ],
   "source": [
    "print(int(8.13))\n"
   ]
  },
  {
   "cell_type": "code",
   "execution_count": 6,
   "metadata": {},
   "outputs": [
    {
     "name": "stdout",
     "output_type": "stream",
     "text": [
      "19134\n",
      "5556\n",
      "83810205\n",
      "1.8183826778612462\n",
      "5556\n",
      "2469\n"
     ]
    }
   ],
   "source": [
    "print(12345 + 6789)\n",
    "print(12345 - 6789)\n",
    "print(12345 * 6789)\n",
    "print(12345 / 6789)\n",
    "print(12345 % 6789)\n",
    "print(12345 // 5)"
   ]
  },
  {
   "cell_type": "code",
   "execution_count": 8,
   "metadata": {},
   "outputs": [
    {
     "name": "stdout",
     "output_type": "stream",
     "text": [
      "537367797\n",
      "-12\n",
      "324\n"
     ]
    }
   ],
   "source": [
    "print(813 ** 3)\n",
    "print(12 // 3 + 8 * (1 - 3))\n",
    "print(12 * 3 ** 3)"
   ]
  },
  {
   "cell_type": "code",
   "execution_count": 9,
   "metadata": {},
   "outputs": [
    {
     "name": "stdout",
     "output_type": "stream",
     "text": [
      "1000\n"
     ]
    }
   ],
   "source": [
    "s = 100\n",
    "s_2 = s * 10\n",
    "print(s_2)"
   ]
  },
  {
   "cell_type": "code",
   "execution_count": 11,
   "metadata": {},
   "outputs": [
    {
     "name": "stdout",
     "output_type": "stream",
     "text": [
      "110\n",
      "10\n"
     ]
    }
   ],
   "source": [
    "s = 100\n",
    "\n",
    "s += 10\n",
    "print(s)\n",
    "\n",
    "s = 100\n",
    "\n",
    "s //= 10\n",
    "print(s)"
   ]
  },
  {
   "cell_type": "code",
   "execution_count": 16,
   "metadata": {},
   "outputs": [
    {
     "name": "stdout",
     "output_type": "stream",
     "text": [
      "l\n",
      "a\n",
      "Hello pai\n",
      "lo paiza\n",
      "11\n"
     ]
    }
   ],
   "source": [
    "s = \"Hello paiza\"\n",
    "print(s[2])\n",
    "print(s[-1])\n",
    "\n",
    "print(s[:9])\n",
    "print(s[-8:])\n",
    "\n",
    "print(len(s))"
   ]
  },
  {
   "cell_type": "code",
   "execution_count": 18,
   "metadata": {},
   "outputs": [
    {
     "name": "stdout",
     "output_type": "stream",
     "text": [
      "Hello paiza\n",
      "Hello \n",
      "Hello paiza\n"
     ]
    }
   ],
   "source": [
    "s1 = \"Hello \"\n",
    "s2 = \"paiza\"\n",
    "s3 = s1 + s2\n",
    "print(s1 + s2)\n",
    "print(s1)\n",
    "print(s3)"
   ]
  }
 ],
 "metadata": {
  "kernelspec": {
   "display_name": "base",
   "language": "python",
   "name": "python3"
  },
  "language_info": {
   "codemirror_mode": {
    "name": "ipython",
    "version": 3
   },
   "file_extension": ".py",
   "mimetype": "text/x-python",
   "name": "python",
   "nbconvert_exporter": "python",
   "pygments_lexer": "ipython3",
   "version": "3.10.9"
  },
  "orig_nbformat": 4
 },
 "nbformat": 4,
 "nbformat_minor": 2
}
