{
 "cells": [
  {
   "cell_type": "code",
   "execution_count": null,
   "metadata": {},
   "outputs": [],
   "source": [
    "Exception"
   ]
  },
  {
   "cell_type": "markdown",
   "metadata": {},
   "source": [
    "1.Exception\n",
    "C　SyntaxError？\n",
    "正解：C\n",
    "クォーテーションが一致していない"
   ]
  },
  {
   "cell_type": "markdown",
   "metadata": {},
   "source": [
    "2.except\n",
    "C？　input()とは\n",
    "不正解：A\n",
    "try-except文を使う\n",
    "ValueError：値が適切でない（型はあってる）\n",
    "KeyError：辞書に存在しないキーを参照する（大きな数）\n",
    "NameError：存在しない変数、関数"
   ]
  },
  {
   "cell_type": "markdown",
   "metadata": {},
   "source": [
    "3.ValueError\n",
    "D　例外を送る\n",
    "正解：D\n",
    "raise で例外を送出！"
   ]
  },
  {
   "cell_type": "code",
   "execution_count": 2,
   "metadata": {},
   "outputs": [
    {
     "name": "stdout",
     "output_type": "stream",
     "text": [
      "エラーだよー\n"
     ]
    }
   ],
   "source": [
    "try:\n",
    "    raise ValueError(\"エラーだよー\")\n",
    "except ValueError as error:\n",
    "    print(error)"
   ]
  },
  {
   "cell_type": "markdown",
   "metadata": {},
   "source": [
    "4.exceptが複数\n",
    "A　\"0\"は文字列\n",
    "正解：A\n",
    "クリーンアップ動作\n",
    "finally を使う　例外があってもなくても発動する"
   ]
  }
 ],
 "metadata": {
  "language_info": {
   "name": "python"
  }
 },
 "nbformat": 4,
 "nbformat_minor": 2
}
