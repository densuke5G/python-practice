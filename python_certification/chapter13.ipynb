{
 "cells": [
  {
   "cell_type": "code",
   "execution_count": null,
   "metadata": {},
   "outputs": [],
   "source": []
  },
  {
   "cell_type": "markdown",
   "metadata": {},
   "source": [
    "1.特徴\n",
    "C　インタープリタ言語\n",
    "正解：C\n",
    "Pythonはインタープリタ言語"
   ]
  },
  {
   "cell_type": "markdown",
   "metadata": {},
   "source": [
    "2.対話モード\n",
    "A？\n",
    "不正解：B\n",
    "インタープリタの1次プロンプト→＞＞＞"
   ]
  },
  {
   "cell_type": "markdown",
   "metadata": {},
   "source": [
    "3.IF文\n",
    "C\n",
    "正解：C\n",
    "条件は上から処理される"
   ]
  },
  {
   "cell_type": "markdown",
   "metadata": {},
   "source": [
    "4.代入\n",
    "D\n",
    "正解：D\n",
    "多重代入"
   ]
  },
  {
   "cell_type": "markdown",
   "metadata": {},
   "source": [
    "5.計算\n",
    "C？　　//とは\n",
    "正解：C\n",
    "//は小数点切り捨て！"
   ]
  },
  {
   "cell_type": "markdown",
   "metadata": {},
   "source": [
    "6.フォーマット\n",
    "B?\n",
    "不正解：D\n",
    "フォーマット　小数点はmath.tau:.3f とかく"
   ]
  },
  {
   "cell_type": "markdown",
   "metadata": {},
   "source": [
    "7.リスト\n",
    "D\n",
    "正解：D\n",
    "-1は末尾"
   ]
  },
  {
   "cell_type": "markdown",
   "metadata": {},
   "source": [
    "8.スライス\n",
    "D\n",
    "正解：D\n",
    ":2　は0と1"
   ]
  },
  {
   "cell_type": "markdown",
   "metadata": {},
   "source": [
    "9.コーディングスタイル\n",
    "C？\n",
    "不正解：B\n",
    "インデントは空白4つ、タブは使わない！\n",
    "ソースコードは79行以上は折り返す！"
   ]
  },
  {
   "cell_type": "markdown",
   "metadata": {},
   "source": [
    "10.演算子\n",
    "C\n",
    "正解：C\n",
    "and とor"
   ]
  },
  {
   "cell_type": "markdown",
   "metadata": {},
   "source": [
    "11.for\n",
    "B?　末端は考慮される？\n",
    "正解：B\n",
    "range(1,7,2) は[1,3,5]　になる　終端は無視"
   ]
  },
  {
   "cell_type": "markdown",
   "metadata": {},
   "source": [
    "12.ループ\n",
    "B?\n",
    "正解：B\n",
    "for 終了はbreak"
   ]
  },
  {
   "cell_type": "markdown",
   "metadata": {},
   "source": [
    "13.変数\n",
    "D?\n",
    "不正解：C\n",
    "関数内で定義された変数は外から参照できない\n",
    "関数内で外側で定義されたグローバル変数には値を代入できない　→　関数外はグローバル変数！"
   ]
  },
  {
   "cell_type": "markdown",
   "metadata": {},
   "source": [
    "14.キーワード引数\n",
    "B\n",
    "不正解：D\n",
    "キーワード引数は後！　問題良く見ろ"
   ]
  },
  {
   "cell_type": "markdown",
   "metadata": {},
   "source": [
    "15.グローバル変数と関数\n",
    "C?\n",
    "不正解：B\n",
    "引数のデフォルト値→関数が定義された時点で行われる\n",
    "関数定義の後にグローバル変数を変更しても、引数のデフォルト値の値は変わらない！"
   ]
  },
  {
   "cell_type": "markdown",
   "metadata": {},
   "source": [
    "16.引数\n",
    "B\n",
    "正解：B\n",
    "要素を引数に展開"
   ]
  },
  {
   "cell_type": "markdown",
   "metadata": {},
   "source": [
    "17.ラムダ式\n",
    "D\n",
    "正解：D\n",
    "lambda 引数：式"
   ]
  },
  {
   "cell_type": "markdown",
   "metadata": {},
   "source": [
    "18.pop()\n",
    "C?\n",
    "正解：C\n",
    "リストをスタックとして使う方法\n",
    "すべて実行するとリストの順序が逆になる"
   ]
  },
  {
   "cell_type": "markdown",
   "metadata": {},
   "source": [
    "19.リスト\n",
    "D\n",
    "正解：D\n",
    "リストの入れ子構造　要素の長さに注意"
   ]
  },
  {
   "cell_type": "markdown",
   "metadata": {},
   "source": [
    "20.and 数の場合\n",
    "C?\n",
    "不正解：B\n",
    "短絡演算子について\n",
    "そもそも整数０→偽　1以上→真\n",
    "andはvalueが0の時点で評価をやめ、　resultは0になる\n",
    "orの場合、値が１になった時点で評価をやめ、値は１になる！"
   ]
  },
  {
   "cell_type": "markdown",
   "metadata": {},
   "source": [
    "21.ZIP\n",
    "B\n"
   ]
  },
  {
   "cell_type": "markdown",
   "metadata": {},
   "source": [
    "22.タプル生成\n",
    "D?\n"
   ]
  },
  {
   "cell_type": "markdown",
   "metadata": {},
   "source": [
    "23.set\n",
    "A\n"
   ]
  },
  {
   "cell_type": "markdown",
   "metadata": {},
   "source": [
    "24.辞書　代入\n",
    "D\n"
   ]
  },
  {
   "cell_type": "markdown",
   "metadata": {},
   "source": [
    "25.メインモジュール\n",
    "B\n"
   ]
  },
  {
   "cell_type": "markdown",
   "metadata": {},
   "source": [
    "26.__init__.py\n",
    "C?\n"
   ]
  },
  {
   "cell_type": "markdown",
   "metadata": {},
   "source": [
    "27.open()\n",
    "A?\n"
   ]
  },
  {
   "cell_type": "markdown",
   "metadata": {},
   "source": [
    "28.エラー\n",
    "A\n"
   ]
  },
  {
   "cell_type": "markdown",
   "metadata": {},
   "source": [
    "29.例外\n",
    "B?\n"
   ]
  },
  {
   "cell_type": "markdown",
   "metadata": {},
   "source": [
    "30.ValueError\n",
    "B\n"
   ]
  },
  {
   "cell_type": "markdown",
   "metadata": {},
   "source": [
    "31.finally\n",
    "A?\n"
   ]
  },
  {
   "cell_type": "markdown",
   "metadata": {},
   "source": [
    "32.クラス\n",
    "C\n"
   ]
  },
  {
   "cell_type": "markdown",
   "metadata": {},
   "source": [
    "33.ローカル変数\n",
    "C\n"
   ]
  },
  {
   "cell_type": "markdown",
   "metadata": {},
   "source": [
    "34.globモジュール\n",
    "C\n"
   ]
  },
  {
   "cell_type": "markdown",
   "metadata": {},
   "source": [
    "35.argparser()\n",
    "C？\n"
   ]
  },
  {
   "cell_type": "markdown",
   "metadata": {},
   "source": [
    "36.reモジュール\n",
    "？？？？"
   ]
  },
  {
   "cell_type": "markdown",
   "metadata": {},
   "source": [
    "37.unittest\n",
    "B?\n"
   ]
  },
  {
   "cell_type": "markdown",
   "metadata": {},
   "source": [
    "38.内包表記\n",
    "C　pprint\n"
   ]
  },
  {
   "cell_type": "markdown",
   "metadata": {},
   "source": [
    "39.仮想環境\n",
    "A\n"
   ]
  },
  {
   "cell_type": "markdown",
   "metadata": {},
   "source": [
    "40.入力履歴\n",
    "D?\n"
   ]
  }
 ],
 "metadata": {
  "kernelspec": {
   "display_name": "base",
   "language": "python",
   "name": "python3"
  },
  "language_info": {
   "name": "python",
   "version": "3.10.9"
  }
 },
 "nbformat": 4,
 "nbformat_minor": 2
}
