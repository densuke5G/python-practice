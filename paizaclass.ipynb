{
 "cells": [
  {
   "cell_type": "code",
   "execution_count": null,
   "metadata": {},
   "outputs": [],
   "source": [
    "class Person:\n",
    "    def __init__(self, name, age):\n",
    "        self.name = name\n",
    "        self.age = age\n",
    "\n",
    "\n",
    "kirishima = Person(\"Kirishima\", 15)"
   ]
  },
  {
   "cell_type": "markdown",
   "metadata": {},
   "source": [
    "仮引数 name の値が \"Kirishima\" で、仮引数 age の値が 15 のインスタンスを生成して、変数 kirishima に代入している\n"
   ]
  },
  {
   "cell_type": "code",
   "execution_count": null,
   "metadata": {},
   "outputs": [],
   "source": [
    "class PersonalComputer:\n",
    "    def __init__(self, ram, strage):\n",
    "        self.ram = ram\n",
    "        self.strage = strage\n",
    "\n",
    "\n",
    "pc = PersonalComputer(8, 128)\n",
    "\n",
    "pc.ram = 16\n",
    "\n",
    "print(pc.ram)"
   ]
  },
  {
   "cell_type": "code",
   "execution_count": null,
   "metadata": {},
   "outputs": [],
   "source": [
    "class PersonalComputer:\n",
    "    def __init__(self, ram, strage):\n",
    "        self.ram = ram\n",
    "        self.strage = strage\n",
    "\n",
    "    def ram_expansion(self, addram):\n",
    "        self.ram += addram\n",
    "\n",
    "\n",
    "pc = PersonalComputer(8, 128)\n",
    "pc.ram_expansion(8)\n",
    "print(pc.ram)"
   ]
  },
  {
   "cell_type": "markdown",
   "metadata": {},
   "source": [
    "クラスを定義するときに定義する \\_\\_init\\_\\_ 関数をコンストラクタと呼ぶ\n",
    "\n",
    "コンストラクタとは、インスタンスが生成されるときに呼び出されるメソッドのこと\n",
    "\n",
    "インスタンスが生成されるときに、1 度だけ呼び出される\n",
    "\n",
    "コンストラクタの役割は主にメンバ変数を用意すること"
   ]
  },
  {
   "cell_type": "markdown",
   "metadata": {},
   "source": [
    "self はインスタンスを示す\n",
    "\n",
    "たとえば kirishima.add_age(4) というコードが実行されると、add_age メソッドの仮引数 self には、インスタンス kirishima が代入される"
   ]
  },
  {
   "cell_type": "markdown",
   "metadata": {},
   "source": [
    "インスタンスを指定して、メソッド内から同一クラスの他のメソッドを呼び出すことができる"
   ]
  },
  {
   "cell_type": "code",
   "execution_count": null,
   "metadata": {},
   "outputs": [],
   "source": [
    "class PersonalComputer:\n",
    "    def __init__(self, ram, strage):\n",
    "        self.ram = ram\n",
    "        self.strage = strage\n",
    "\n",
    "    def ram_expansion(self, gb):\n",
    "        self.ram += gb\n",
    "\n",
    "    def strage_expansion(self, gb):\n",
    "        self.strage += gb\n",
    "\n",
    "    def ram_and_strage_expansion(self, ram_gb, strage_gb):\n",
    "        self.ram_expansion(ram_gb)\n",
    "        self.strage_expansion(strage_gb)\n",
    "\n",
    "\n",
    "\n",
    "pc = PersonalComputer(8, 128)\n",
    "pc.ram_and_strage_expansion(8, 128)\n",
    "print(pc.ram, pc.strage)"
   ]
  }
 ],
 "metadata": {
  "language_info": {
   "name": "python"
  },
  "orig_nbformat": 4
 },
 "nbformat": 4,
 "nbformat_minor": 2
}
