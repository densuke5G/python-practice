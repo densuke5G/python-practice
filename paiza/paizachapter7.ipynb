{
 "cells": [
  {
   "cell_type": "code",
   "execution_count": 3,
   "metadata": {},
   "outputs": [
    {
     "name": "stdout",
     "output_type": "stream",
     "text": [
      "[1, 2, 3, 4, 5]\n",
      "[[1, 2, 3], ['apple', 'banana', 'cat']]\n",
      "['cat', 'dog', 'elephant']\n"
     ]
    }
   ],
   "source": [
    "numbers = [1, 2, 3, 4, 5]\n",
    "\n",
    "print(numbers)\n",
    "\n",
    "a = [1, 2, 3]\n",
    "b = [\"apple\", \"banana\", \"cat\"]\n",
    "c = [a, b]\n",
    "\n",
    "print(c)\n",
    "\n",
    "li = [\"apple\", \"banana\", \"cat\", \"dog\", \"elephant\"]\n",
    "\n",
    "print(li[2:5])"
   ]
  },
  {
   "cell_type": "code",
   "execution_count": 5,
   "metadata": {},
   "outputs": [
    {
     "name": "stdout",
     "output_type": "stream",
     "text": [
      "[2, 4, 6, 8, 10]\n",
      "5\n"
     ]
    }
   ],
   "source": [
    "li = [2, 4, 5, 8, 10]\n",
    "\n",
    "li[2] = 6\n",
    "\n",
    "print(li)\n",
    "\n",
    "li = [1, 2, 3, 4, 5]\n",
    "\n",
    "print(len(li))"
   ]
  },
  {
   "cell_type": "code",
   "execution_count": 8,
   "metadata": {},
   "outputs": [
    {
     "name": "stdout",
     "output_type": "stream",
     "text": [
      "[1, 2, 3, 4, 5, 6, 7, 8, 9, 10]\n",
      "[1, 2, 3, 4, 5, 6, 7, 8, 9, 10]\n"
     ]
    }
   ],
   "source": [
    "a = [1, 2, 3, 4 ,5]\n",
    "b = [6, 7, 8, 9, 10]\n",
    "\n",
    "c = a + b\n",
    "print(c)\n",
    "\n",
    "a += b\n",
    "\n",
    "print(a)"
   ]
  },
  {
   "cell_type": "code",
   "execution_count": 9,
   "metadata": {},
   "outputs": [
    {
     "name": "stdout",
     "output_type": "stream",
     "text": [
      "[2, 4, 6, 8, 10]\n"
     ]
    }
   ],
   "source": [
    "li = [2, 4, 6, 8]\n",
    "\n",
    "# 末尾に要素を追加する\n",
    "li.append(10)\n",
    "\n",
    "print(li)"
   ]
  },
  {
   "cell_type": "code",
   "execution_count": 10,
   "metadata": {},
   "outputs": [
    {
     "name": "stdout",
     "output_type": "stream",
     "text": [
      "長さ： 2, 取得した要素： cat\n"
     ]
    }
   ],
   "source": [
    "li = [\"apple\", \"banana\", \"cat\"]\n",
    "\n",
    "# popで末尾の要素を取り出す\n",
    "a = li.pop()\n",
    "\n",
    "print(f\"長さ： {len(li)}, 取得した要素： {a}\")"
   ]
  },
  {
   "cell_type": "code",
   "execution_count": 11,
   "metadata": {},
   "outputs": [
    {
     "name": "stdout",
     "output_type": "stream",
     "text": [
      "長さ： 2, 要素： ['banana', 'cat']\n"
     ]
    }
   ],
   "source": [
    "li = [\"apple\", \"banana\", \"cat\"]\n",
    "\n",
    "# removeで要素を削除、複数含まれる場合、最初に現われるものを削除する\n",
    "li.remove(\"apple\")\n",
    "\n",
    "print(f\"長さ： {len(li)}, 要素： {li}\")"
   ]
  },
  {
   "cell_type": "code",
   "execution_count": 12,
   "metadata": {},
   "outputs": [
    {
     "name": "stdout",
     "output_type": "stream",
     "text": [
      "長さ： 2, 要素： ['apple', 'cat']\n"
     ]
    }
   ],
   "source": [
    "li = [\"apple\", \"banana\", \"cat\"]\n",
    "\n",
    "# 指定の要素を削除\n",
    "del li[1]\n",
    "\n",
    "print(f\"長さ： {len(li)}, 要素： {li}\")"
   ]
  },
  {
   "cell_type": "code",
   "execution_count": null,
   "metadata": {},
   "outputs": [],
   "source": [
    "li = [\"banana\", \"elefant\", \"cat\", \"apple\", \"dog\"]\n",
    "\n",
    "# デフォルトは昇順にソート\n",
    "li.sort()\n",
    "\n",
    "print(li)"
   ]
  },
  {
   "cell_type": "code",
   "execution_count": null,
   "metadata": {},
   "outputs": [],
   "source": [
    "li = [\"cat\", \"apple\", \"banana\"]\n",
    "\n",
    "# sorted 関数を使うと、リスト li の要素が非破壊的に、昇順にソートされた新しいリストを取得することができる\n",
    "a = sorted(li)\n",
    "\n",
    "print(li, a)"
   ]
  }
 ],
 "metadata": {
  "kernelspec": {
   "display_name": "base",
   "language": "python",
   "name": "python3"
  },
  "language_info": {
   "codemirror_mode": {
    "name": "ipython",
    "version": 3
   },
   "file_extension": ".py",
   "mimetype": "text/x-python",
   "name": "python",
   "nbconvert_exporter": "python",
   "pygments_lexer": "ipython3",
   "version": "3.10.9"
  },
  "orig_nbformat": 4
 },
 "nbformat": 4,
 "nbformat_minor": 2
}
