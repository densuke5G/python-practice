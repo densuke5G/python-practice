{
 "cells": [
  {
   "cell_type": "code",
   "execution_count": 1,
   "metadata": {},
   "outputs": [
    {
     "name": "stdout",
     "output_type": "stream",
     "text": [
      "Hello paiza\n"
     ]
    }
   ],
   "source": [
    "print(\"Hello paiza\")"
   ]
  },
  {
   "cell_type": "code",
   "execution_count": 2,
   "metadata": {},
   "outputs": [
    {
     "name": "stdout",
     "output_type": "stream",
     "text": [
      "Hello paiza\n"
     ]
    }
   ],
   "source": [
    "print(\"Hello\", \"paiza\")"
   ]
  },
  {
   "cell_type": "code",
   "execution_count": 3,
   "metadata": {},
   "outputs": [
    {
     "name": "stdout",
     "output_type": "stream",
     "text": [
      "Hello,paiza\n"
     ]
    }
   ],
   "source": [
    "print(\"Hello\", end=\",\")\n",
    "print(\"paiza\")"
   ]
  },
  {
   "cell_type": "code",
   "execution_count": 4,
   "metadata": {},
   "outputs": [
    {
     "name": "stdout",
     "output_type": "stream",
     "text": [
      "8\n"
     ]
    }
   ],
   "source": [
    "print(int(8.13))\n"
   ]
  },
  {
   "cell_type": "code",
   "execution_count": 6,
   "metadata": {},
   "outputs": [
    {
     "name": "stdout",
     "output_type": "stream",
     "text": [
      "19134\n",
      "5556\n",
      "83810205\n",
      "1.8183826778612462\n",
      "5556\n",
      "2469\n"
     ]
    }
   ],
   "source": [
    "print(12345 + 6789)\n",
    "print(12345 - 6789)\n",
    "print(12345 * 6789)\n",
    "print(12345 / 6789)\n",
    "print(12345 % 6789)\n",
    "print(12345 // 5)"
   ]
  },
  {
   "cell_type": "code",
   "execution_count": 8,
   "metadata": {},
   "outputs": [
    {
     "name": "stdout",
     "output_type": "stream",
     "text": [
      "537367797\n",
      "-12\n",
      "324\n"
     ]
    }
   ],
   "source": [
    "print(813 ** 3)\n",
    "print(12 // 3 + 8 * (1 - 3))\n",
    "print(12 * 3 ** 3)"
   ]
  },
  {
   "cell_type": "code",
   "execution_count": 9,
   "metadata": {},
   "outputs": [
    {
     "name": "stdout",
     "output_type": "stream",
     "text": [
      "1000\n"
     ]
    }
   ],
   "source": [
    "s = 100\n",
    "s_2 = s * 10\n",
    "print(s_2)"
   ]
  },
  {
   "cell_type": "code",
   "execution_count": 11,
   "metadata": {},
   "outputs": [
    {
     "name": "stdout",
     "output_type": "stream",
     "text": [
      "110\n",
      "10\n"
     ]
    }
   ],
   "source": [
    "s = 100\n",
    "\n",
    "s += 10\n",
    "print(s)\n",
    "\n",
    "s = 100\n",
    "\n",
    "s //= 10\n",
    "print(s)"
   ]
  }
 ],
 "metadata": {
  "kernelspec": {
   "display_name": "base",
   "language": "python",
   "name": "python3"
  },
  "language_info": {
   "codemirror_mode": {
    "name": "ipython",
    "version": 3
   },
   "file_extension": ".py",
   "mimetype": "text/x-python",
   "name": "python",
   "nbconvert_exporter": "python",
   "pygments_lexer": "ipython3",
   "version": "3.10.9"
  },
  "orig_nbformat": 4
 },
 "nbformat": 4,
 "nbformat_minor": 2
}
