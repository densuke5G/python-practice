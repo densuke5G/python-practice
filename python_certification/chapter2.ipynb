{
 "cells": [
  {
   "cell_type": "code",
   "execution_count": null,
   "metadata": {},
   "outputs": [],
   "source": []
  },
  {
   "cell_type": "markdown",
   "metadata": {},
   "source": [
    "1.計算\n",
    "D　　5/5がどうなるのか\n",
    "不正解：C\n",
    "5/5は小数になる"
   ]
  },
  {
   "cell_type": "markdown",
   "metadata": {},
   "source": [
    "2.タプル？\n",
    "D　文字列連結か\n",
    "不正解：B\n",
    "\"\"が全て消え、結合される"
   ]
  },
  {
   "cell_type": "code",
   "execution_count": 3,
   "metadata": {},
   "outputs": [
    {
     "name": "stdout",
     "output_type": "stream",
     "text": [
      "usagehelpversion\n"
     ]
    }
   ],
   "source": [
    "text = (\n",
    "    \"usage\"\n",
    "    \"help\"\n",
    "    \"version\"\n",
    ")\n",
    "print(text)"
   ]
  },
  {
   "cell_type": "markdown",
   "metadata": {},
   "source": [
    "3.\"\"\"\n",
    "C？\n",
    "不正解：D\n",
    "\"\"\"で囲われた文字列改行される　説明の意味が分からない"
   ]
  },
  {
   "cell_type": "markdown",
   "metadata": {},
   "source": [
    "4.文字列の長さ\n",
    "D\n",
    "正解：D"
   ]
  },
  {
   "cell_type": "code",
   "execution_count": 4,
   "metadata": {},
   "outputs": [
    {
     "name": "stdout",
     "output_type": "stream",
     "text": [
      "3\n"
     ]
    }
   ],
   "source": [
    "print(len(\"str\"))"
   ]
  },
  {
   "cell_type": "markdown",
   "metadata": {},
   "source": [
    "5.スライス\n",
    "D\n",
    "不正解：A\n",
    "[2:5]は2から4までの値　（終端は入らない）"
   ]
  },
  {
   "cell_type": "code",
   "execution_count": 5,
   "metadata": {},
   "outputs": [
    {
     "name": "stdout",
     "output_type": "stream",
     "text": [
      "cde\n"
     ]
    }
   ],
   "source": [
    "word = \"abcdefg\"\n",
    "sliced = word[2:5]\n",
    "print(sliced)"
   ]
  },
  {
   "cell_type": "markdown",
   "metadata": {},
   "source": [
    "6.－スライス\n",
    "B\n",
    "正解：B\n",
    "－スライスは-1から始まる"
   ]
  },
  {
   "cell_type": "markdown",
   "metadata": {},
   "source": [
    "7.fフォーマット\n",
    "C？\n",
    "正解：C\n",
    ":7d　フォーマットのオプション\n",
    "7で桁数を指定できる\n",
    "dは10進数指定"
   ]
  },
  {
   "cell_type": "code",
   "execution_count": 6,
   "metadata": {},
   "outputs": [
    {
     "name": "stdout",
     "output_type": "stream",
     "text": [
      "価格:   1500\n"
     ]
    }
   ],
   "source": [
    "price = 1500\n",
    "print(f\"価格:{price:7d}\")"
   ]
  },
  {
   "cell_type": "markdown",
   "metadata": {},
   "source": [
    "8.小数点フォーマット\n",
    "C\n",
    "不正解：A\n",
    ".5f 小数点から5桁で丸めて表示するオプション"
   ]
  },
  {
   "cell_type": "code",
   "execution_count": 8,
   "metadata": {},
   "outputs": [
    {
     "name": "stdout",
     "output_type": "stream",
     "text": [
      "3.14159\n"
     ]
    }
   ],
   "source": [
    "import math\n",
    "\n",
    "print(f\"{math.pi:.5f}\")"
   ]
  },
  {
   "cell_type": "markdown",
   "metadata": {},
   "source": [
    "9.複数フォーマット\n",
    "不正解：B\n",
    ".formatメソッドについて\n",
    "任意の場所に文字列を埋め込める\n",
    "→場所指定に文字列と同じ文字は使えない"
   ]
  },
  {
   "cell_type": "code",
   "execution_count": 11,
   "metadata": {},
   "outputs": [
    {
     "name": "stdout",
     "output_type": "stream",
     "text": [
      "spam:300, ham:200\n"
     ]
    },
    {
     "ename": "KeyError",
     "evalue": "'x'",
     "output_type": "error",
     "traceback": [
      "\u001b[1;31m---------------------------------------------------------------------------\u001b[0m",
      "\u001b[1;31mKeyError\u001b[0m                                  Traceback (most recent call last)",
      "Cell \u001b[1;32mIn[11], line 7\u001b[0m\n\u001b[0;32m      5\u001b[0m x \u001b[39m=\u001b[39m \u001b[39m300\u001b[39m\n\u001b[0;32m      6\u001b[0m y \u001b[39m=\u001b[39m \u001b[39m200\u001b[39m\n\u001b[1;32m----> 7\u001b[0m \u001b[39mprint\u001b[39m(\u001b[39m\"\u001b[39;49m\u001b[39mspam:\u001b[39;49m\u001b[39m{x}\u001b[39;49;00m\u001b[39m, ham:\u001b[39;49m\u001b[39m{y}\u001b[39;49;00m\u001b[39m\"\u001b[39;49m\u001b[39m.\u001b[39;49mformat(x, y))\n",
      "\u001b[1;31mKeyError\u001b[0m: 'x'"
     ]
    }
   ],
   "source": [
    "x = 300\n",
    "y = 200\n",
    "print(\"spam:{0}, ham:{1}\".format(x, y))\n",
    "\n",
    "x = 300\n",
    "y = 200\n",
    "print(\"spam:{x}, ham:{y}\".format(x, y))"
   ]
  },
  {
   "cell_type": "markdown",
   "metadata": {},
   "source": []
  }
 ],
 "metadata": {
  "kernelspec": {
   "display_name": "base",
   "language": "python",
   "name": "python3"
  },
  "language_info": {
   "codemirror_mode": {
    "name": "ipython",
    "version": 3
   },
   "file_extension": ".py",
   "mimetype": "text/x-python",
   "name": "python",
   "nbconvert_exporter": "python",
   "pygments_lexer": "ipython3",
   "version": "3.10.9"
  },
  "orig_nbformat": 4
 },
 "nbformat": 4,
 "nbformat_minor": 2
}
