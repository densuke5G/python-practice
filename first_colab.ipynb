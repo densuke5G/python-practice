{
 "cells": [
  {
   "cell_type": "code",
   "execution_count": 1,
   "id": "6bd8402e-d508-4887-8c1f-2caf1b8134b2",
   "metadata": {},
   "outputs": [
    {
     "name": "stdout",
     "output_type": "stream",
     "text": [
      "Hello World\n"
     ]
    }
   ],
   "source": [
    "print('Hello World')"
   ]
  },
  {
   "cell_type": "code",
   "execution_count": 2,
   "id": "1bbbff9c",
   "metadata": {},
   "outputs": [
    {
     "name": "stdout",
     "output_type": "stream",
     "text": [
      "7\n"
     ]
    }
   ],
   "source": [
    "a = 3\n",
    "b = 4\n",
    "print(a + b)"
   ]
  },
  {
   "cell_type": "markdown",
   "id": "27af0c3b-96cd-48a2-8200-0950b3354866",
   "metadata": {},
   "source": [
    "*Python*でコードを書いていきましょう  \n",
    "改行  \n",
    "1. list\n",
    "2. you\n",
    "\n",
    "* task\n",
    "* link\n",
    "\n",
    "[link](https://google.com)\n",
    "\n",
    "# Tim\n",
    "\n",
    "$$  y= 2x + 1 $$"
   ]
  },
  {
   "cell_type": "code",
   "execution_count": null,
   "id": "d0dca256",
   "metadata": {},
   "outputs": [],
   "source": []
  }
 ],
 "metadata": {
  "kernelspec": {
   "display_name": "Python 3 (ipykernel)",
   "language": "python",
   "name": "python3"
  },
  "language_info": {
   "codemirror_mode": {
    "name": "ipython",
    "version": 3
   },
   "file_extension": ".py",
   "mimetype": "text/x-python",
   "name": "python",
   "nbconvert_exporter": "python",
   "pygments_lexer": "ipython3",
   "version": "3.10.9"
  }
 },
 "nbformat": 4,
 "nbformat_minor": 5
}
