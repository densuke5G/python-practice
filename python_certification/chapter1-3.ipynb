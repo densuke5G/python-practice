{
 "cells": [
  {
   "cell_type": "code",
   "execution_count": null,
   "metadata": {},
   "outputs": [],
   "source": [
    "chapter1"
   ]
  },
  {
   "cell_type": "markdown",
   "metadata": {},
   "source": [
    "1.A\n",
    "〇A\n",
    "\n",
    "2.D\n",
    "〇D\n",
    "\n",
    "3.B\n",
    "〇B\n",
    "\n",
    "4.B\n",
    "〇B\n",
    "\n",
    "5.C\n",
    "〇C\n",
    "\n",
    "6.D\n",
    "〇D\n",
    "\n",
    "7.C\n",
    "〇C\n",
    "\n",
    "8.A\n",
    "〇A\n",
    "\n",
    "9.C\n",
    "〇C\n"
   ]
  },
  {
   "cell_type": "markdown",
   "metadata": {},
   "source": [
    "chapter2\n",
    "\n",
    "1.D?\n",
    "×C　除算の結果は浮動小数点数になる\n",
    "2.B?\n",
    "〇B　\n",
    "\n",
    "3.C??\n",
    "×D\n",
    "\"\"\"トリプルクオートを使うと、改行が文字列にも反映される\n",
    "spam\n",
    "ham\n",
    "egg\n",
    "4.D\n",
    "〇D\n",
    "\n",
    "5.A 終端は考慮されない?\n",
    "〇A\n",
    "\n",
    "6.B\n",
    "〇B\n",
    "\n",
    "7.C\n",
    "〇C\n",
    "\n",
    "8.A\n",
    "〇A\n",
    "\n",
    "9.B?\n",
    "〇B"
   ]
  },
  {
   "cell_type": "markdown",
   "metadata": {},
   "source": [
    "chapter3\n",
    "\n",
    "1.C\n",
    "〇C\n",
    "\n",
    "2.D\n",
    "×B\n",
    "終端は考慮されない！！\n",
    "\n",
    "3.C?\n",
    "〇C\n",
    "\n",
    "4.B\n",
    "〇B\n",
    "\n",
    "5.B\n",
    "〇B\n",
    "\n",
    "6.A\n",
    "〇A\n",
    "\n",
    "7.A stack\n",
    "〇A\n",
    "\n",
    "8.B\n",
    "〇B\n",
    "\n",
    "9.A　そのままの表記で\n",
    "〇A"
   ]
  },
  {
   "cell_type": "markdown",
   "metadata": {},
   "source": []
  }
 ],
 "metadata": {
  "kernelspec": {
   "display_name": "base",
   "language": "python",
   "name": "python3"
  },
  "language_info": {
   "name": "python",
   "version": "3.10.9"
  }
 },
 "nbformat": 4,
 "nbformat_minor": 2
}
