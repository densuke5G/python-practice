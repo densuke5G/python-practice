{
 "cells": [
  {
   "cell_type": "code",
   "execution_count": 1,
   "metadata": {},
   "outputs": [
    {
     "name": "stdout",
     "output_type": "stream",
     "text": [
      "8\n"
     ]
    }
   ],
   "source": [
    "class PersonalComputer:\n",
    "    def __init__(self, ram, strage):\n",
    "        self.ram = ram\n",
    "        self.strage = strage\n",
    "\n",
    "# 以下にコードを記述\n",
    "class Laptop(PersonalComputer):\n",
    "    pass\n",
    "\n",
    "laptop_pc = Laptop(8, 128)\n",
    "print(laptop_pc.ram)\n"
   ]
  },
  {
   "cell_type": "markdown",
   "metadata": {},
   "source": [
    "括弧のなかに、サブクラスが継承するクラス名を書く"
   ]
  },
  {
   "cell_type": "code",
   "execution_count": null,
   "metadata": {},
   "outputs": [],
   "source": [
    "class PersonalComputer:\n",
    "    def __init__(self, ram, strage):\n",
    "        self.ram = ram\n",
    "        self.strage = strage\n",
    "\n",
    "\n",
    "class Laptop(PersonalComputer):\n",
    "    pass\n",
    "\n",
    "\n",
    "laptop_pc = Laptop(8, 128)\n",
    "\n",
    "print(laptop_pc.strage)"
   ]
  },
  {
   "cell_type": "markdown",
   "metadata": {},
   "source": [
    "サブクラスでは、スーパークラスの変数、メソッドを使うことができる"
   ]
  },
  {
   "cell_type": "code",
   "execution_count": null,
   "metadata": {},
   "outputs": [],
   "source": [
    "class PersonalComputer:\n",
    "    def __init__(self, ram, strage):\n",
    "        self.ram = ram\n",
    "        self.strage = strage\n",
    "\n",
    "    def ram_expansion(self, gb):\n",
    "        self.ram += gb\n",
    "        print(self.ram)\n",
    "\n",
    "\n",
    "class Laptop(PersonalComputer):\n",
    "    pass\n",
    "\n",
    "\n",
    "laptop_pc = Laptop(8, 128)\n",
    "\n",
    "laptop_pc.ram_expansion(8)"
   ]
  },
  {
   "cell_type": "markdown",
   "metadata": {},
   "source": [
    "super 関数を使うと、明示的にスーパークラスのメソッドを呼び出すことができる"
   ]
  },
  {
   "cell_type": "code",
   "execution_count": 2,
   "metadata": {},
   "outputs": [
    {
     "name": "stdout",
     "output_type": "stream",
     "text": [
      "jis\n"
     ]
    }
   ],
   "source": [
    "class PersonalComputer:\n",
    "    def __init__(self, ram, strage):\n",
    "        self.ram = ram\n",
    "        self.strage = strage\n",
    "\n",
    "\n",
    "class Laptop(PersonalComputer):\n",
    "    def __init__(self, ram, storage, key_layout):\n",
    "        super().__init__(ram, storage)\n",
    "        self.key_layout = key_layout\n",
    "\n",
    "\n",
    "laptop_pc = Laptop(8, 128, \"jis\")\n",
    "print(laptop_pc.key_layout)"
   ]
  },
  {
   "cell_type": "code",
   "execution_count": 3,
   "metadata": {},
   "outputs": [
    {
     "name": "stdout",
     "output_type": "stream",
     "text": [
      "100\n"
     ]
    }
   ],
   "source": [
    "class PersonalComputer:\n",
    "    def __init__(self, ram, strage):\n",
    "        self.ram = ram\n",
    "        self.strage = strage\n",
    "\n",
    "\n",
    "class Laptop(PersonalComputer):\n",
    "    def __init__(self, ram, strage, key_layout, battery=50):\n",
    "        super().__init__(ram, strage)\n",
    "        self.key_layout = key_layout\n",
    "        self.battery = battery\n",
    "\n",
    "    def charge(self, ener):\n",
    "        self.battery += ener\n",
    "\n",
    "\n",
    "laptop_pc = Laptop(8, 128, \"jis\")\n",
    "laptop_pc.charge(50)\n",
    "print(laptop_pc.battery)\n"
   ]
  },
  {
   "cell_type": "markdown",
   "metadata": {},
   "source": [
    "サブクラスを継承させて、サブクラスのサブクラスを定義することができる"
   ]
  },
  {
   "cell_type": "code",
   "execution_count": 4,
   "metadata": {},
   "outputs": [
    {
     "name": "stdout",
     "output_type": "stream",
     "text": [
      "8 128 jis\n"
     ]
    }
   ],
   "source": [
    "class PersonalComputer:\n",
    "    def __init__(self, ram, strage):\n",
    "        self.ram = ram\n",
    "        self.strage = strage\n",
    "\n",
    "\n",
    "class Laptop(PersonalComputer):\n",
    "    def __init__(self, ram, strage, key_layout):\n",
    "        super().__init__(ram, strage)\n",
    "        self.key_layout = key_layout\n",
    "\n",
    "\n",
    "class PaizaBook(Laptop):\n",
    "    pass\n",
    "\n",
    "\n",
    "\n",
    "paizabook = PaizaBook(8, 128, \"jis\")\n",
    "print(paizabook.ram, paizabook.strage, paizabook.key_layout)\n"
   ]
  },
  {
   "cell_type": "markdown",
   "metadata": {},
   "source": [
    "クラスの継承関係を調べる (__mro__)\n",
    "__mro__ は Method Resolution Order の略称\n",
    "これは、あるメソッドが呼び出されたときに、どの順番でメソッドを探すか、という順番を示している"
   ]
  },
  {
   "cell_type": "code",
   "execution_count": 5,
   "metadata": {},
   "outputs": [
    {
     "name": "stdout",
     "output_type": "stream",
     "text": [
      "(<class '__main__.PaizaBook'>, <class '__main__.Laptop'>, <class '__main__.PersonalComputer'>, <class 'object'>)\n"
     ]
    }
   ],
   "source": [
    "class PersonalComputer:\n",
    "    def __init__(self, ram, strage):\n",
    "        self.ram = ram\n",
    "        self.strage = strage\n",
    "\n",
    "\n",
    "class Laptop(PersonalComputer):\n",
    "    def __init__(self, ram, strage, key_layout):\n",
    "        super().__init__(ram, strage)\n",
    "        self.key_layout = key_layout\n",
    "\n",
    "\n",
    "class PaizaBook(Laptop):\n",
    "    pass\n",
    "\n",
    "\n",
    "print(PaizaBook.__mro__)\n"
   ]
  }
 ],
 "metadata": {
  "kernelspec": {
   "display_name": "base",
   "language": "python",
   "name": "python3"
  },
  "language_info": {
   "codemirror_mode": {
    "name": "ipython",
    "version": 3
   },
   "file_extension": ".py",
   "mimetype": "text/x-python",
   "name": "python",
   "nbconvert_exporter": "python",
   "pygments_lexer": "ipython3",
   "version": "3.10.9"
  },
  "orig_nbformat": 4
 },
 "nbformat": 4,
 "nbformat_minor": 2
}
