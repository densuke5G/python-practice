{
 "cells": [
  {
   "cell_type": "markdown",
   "metadata": {},
   "source": [
    "キーワード引数とは、仮引数の名前を指定して渡す引数\n",
    "\n",
    "関数呼び出しの際に 関数名(仮引数名1=引数1, ..., 仮引数名n=引数n) のように、仮引数名=引数 のかたちで引数を渡す"
   ]
  },
  {
   "cell_type": "markdown",
   "metadata": {},
   "source": [
    "位置引数の前でキーワード引数を使うとエラーになる"
   ]
  },
  {
   "cell_type": "code",
   "execution_count": null,
   "metadata": {},
   "outputs": [],
   "source": [
    "def check_job(student, teacher):\n",
    "    print(f\"teacher: {teacher}\")\n",
    "    print(f\"student: {student}\")\n",
    "\n",
    "check_job(teacher=\"nekosense\", student=\"kirishima\")"
   ]
  },
  {
   "cell_type": "markdown",
   "metadata": {},
   "source": [
    "関数定義の際に、関数名(仮引数1=デフォルト値1, ..., 仮引数n=デフォルト値n) のかたちでデフォルト値を設定する"
   ]
  }
 ],
 "metadata": {
  "language_info": {
   "name": "python"
  },
  "orig_nbformat": 4
 },
 "nbformat": 4,
 "nbformat_minor": 2
}
