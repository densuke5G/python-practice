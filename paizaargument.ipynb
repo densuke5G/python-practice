{
 "cells": [
  {
   "cell_type": "markdown",
   "metadata": {},
   "source": [
    "キーワード引数とは、仮引数の名前を指定して渡す引数\n",
    "\n",
    "関数呼び出しの際に 関数名(仮引数名1=引数1, ..., 仮引数名n=引数n) のように、仮引数名=引数 のかたちで引数を渡す"
   ]
  },
  {
   "cell_type": "markdown",
   "metadata": {},
   "source": [
    "位置引数の前でキーワード引数を使うとエラーになる"
   ]
  },
  {
   "cell_type": "code",
   "execution_count": null,
   "metadata": {},
   "outputs": [],
   "source": [
    "def check_job(student, teacher):\n",
    "    print(f\"teacher: {teacher}\")\n",
    "    print(f\"student: {student}\")\n",
    "\n",
    "check_job(teacher=\"nekosense\", student=\"kirishima\")"
   ]
  },
  {
   "cell_type": "markdown",
   "metadata": {},
   "source": [
    "関数定義の際に、関数名(仮引数1=デフォルト値1, ..., 仮引数n=デフォルト値n) のかたちでデフォルト値を設定する"
   ]
  },
  {
   "cell_type": "markdown",
   "metadata": {},
   "source": [
    "仮引数を用意するときに、デフォルト値を設定していない仮引数より前の仮引数にデフォルト値を設定するとエラーが発生する"
   ]
  },
  {
   "cell_type": "code",
   "execution_count": null,
   "metadata": {},
   "outputs": [],
   "source": [
    "def check_default(first=1, second, third):\n",
    "    print(f\"first: {first}\")\n",
    "    print(f\"second: {second}\")\n",
    "    print(f\"third: {third}\")\n",
    "\n",
    "\n",
    "check_default(1)"
   ]
  },
  {
   "cell_type": "markdown",
   "metadata": {},
   "source": [
    "仮引数への再代入が外の変数に影響をおよぼすことがある  \n",
    "実引数として、リスト型、辞書型、集合型など、値を自由に変えることができる型の値を渡した場合は、実引数として渡した値に影響がおよぶことがある"
   ]
  },
  {
   "cell_type": "code",
   "execution_count": null,
   "metadata": {},
   "outputs": [],
   "source": [
    "def three_times(li):\n",
    "    for i in range(len(li)):\n",
    "        li[i] *= 3\n",
    "\n",
    "    return li\n",
    "\n",
    "\n",
    "a = [1, 2, 3]\n",
    "print(three_times(a))\n",
    "print(a)"
   ]
  },
  {
   "cell_type": "markdown",
   "metadata": {},
   "source": [
    "再帰呼び出しとは、関数のなかで、いまの関数とおなじ関数を呼び出すこと"
   ]
  },
  {
   "cell_type": "code",
   "execution_count": 3,
   "metadata": {},
   "outputs": [
    {
     "name": "stdout",
     "output_type": "stream",
     "text": [
      "55\n"
     ]
    }
   ],
   "source": [
    "def rec_sum(n):\n",
    "    if n == 0:\n",
    "        return 0\n",
    "\n",
    "    return n + rec_sum(n-1)\n",
    "\n",
    "print(rec_sum(10))"
   ]
  },
  {
   "cell_type": "code",
   "execution_count": null,
   "metadata": {},
   "outputs": [],
   "source": [
    "def rec_product(n):\n",
    "    # 以下にコードを記述 \n",
    "    if n == 1:\n",
    "        return 1\n",
    "    return n * rec_product(n-1)\n",
    "\n",
    "\n",
    "print(rec_product(10))\n"
   ]
  }
 ],
 "metadata": {
  "kernelspec": {
   "display_name": "base",
   "language": "python",
   "name": "python3"
  },
  "language_info": {
   "codemirror_mode": {
    "name": "ipython",
    "version": 3
   },
   "file_extension": ".py",
   "mimetype": "text/x-python",
   "name": "python",
   "nbconvert_exporter": "python",
   "pygments_lexer": "ipython3",
   "version": "3.10.9"
  },
  "orig_nbformat": 4
 },
 "nbformat": 4,
 "nbformat_minor": 2
}
