{
 "cells": [
  {
   "cell_type": "code",
   "execution_count": 1,
   "metadata": {},
   "outputs": [
    {
     "name": "stdout",
     "output_type": "stream",
     "text": [
      "('paiza', 'learning')\n"
     ]
    }
   ],
   "source": [
    "t = (\"paiza\", \"learning\")\n",
    "\n",
    "print(t)"
   ]
  },
  {
   "cell_type": "markdown",
   "metadata": {},
   "source": [
    "タプル：どんなデータ型も入れることができる  \n",
    "タプルの中にタプルも可  \n",
    "リストと違って要素の追加、削除ができない"
   ]
  },
  {
   "cell_type": "code",
   "execution_count": 2,
   "metadata": {},
   "outputs": [
    {
     "name": "stdout",
     "output_type": "stream",
     "text": [
      "('paiza', [1, 2, 3, 4, 5])\n"
     ]
    }
   ],
   "source": [
    "s = \"paiza\"\n",
    "li = [1, 2, 3, 4, 5]\n",
    "\n",
    "tapple = (s, li)\n",
    "\n",
    "print(tapple)"
   ]
  },
  {
   "cell_type": "markdown",
   "metadata": {},
   "source": [
    "タプルの各要素を、左辺に並べた変数に一気に代入することを「タプルをアンパックする」と言う\n",
    "アンパックしても元のタプルに影響はない"
   ]
  },
  {
   "cell_type": "code",
   "execution_count": 3,
   "metadata": {},
   "outputs": [
    {
     "name": "stdout",
     "output_type": "stream",
     "text": [
      "paiza learning python\n"
     ]
    }
   ],
   "source": [
    "t = (\"paiza\", \"learning\", \"python\")\n",
    "\n",
    "a, b, c = t\n",
    "\n",
    "print(a, b, c)"
   ]
  },
  {
   "cell_type": "code",
   "execution_count": 4,
   "metadata": {},
   "outputs": [
    {
     "name": "stdout",
     "output_type": "stream",
     "text": [
      "('dog', 'elefant')\n"
     ]
    }
   ],
   "source": [
    "t = (\"apple\", \"banana\", \"cat\", \"dog\", \"elefant\")\n",
    "\n",
    "print(t[-2:])"
   ]
  },
  {
   "cell_type": "markdown",
   "metadata": {},
   "source": [
    "##### タプルは複数の値をまとめて静的に管理する型である"
   ]
  },
  {
   "cell_type": "markdown",
   "metadata": {},
   "source": [
    "len(t) のように len 関数を使うと、タプル t の長さを取得できる\n"
   ]
  },
  {
   "cell_type": "code",
   "execution_count": 6,
   "metadata": {},
   "outputs": [
    {
     "name": "stdout",
     "output_type": "stream",
     "text": [
      "('paiza', 'learning', 8, 1, 3)\n",
      "5\n"
     ]
    }
   ],
   "source": [
    "a = (\"paiza\", \"learning\")\n",
    "b = (8, 1, 3)\n",
    "\n",
    "c = a + b\n",
    "\n",
    "print(c)\n",
    "print(len(c))"
   ]
  }
 ],
 "metadata": {
  "kernelspec": {
   "display_name": "base",
   "language": "python",
   "name": "python3"
  },
  "language_info": {
   "codemirror_mode": {
    "name": "ipython",
    "version": 3
   },
   "file_extension": ".py",
   "mimetype": "text/x-python",
   "name": "python",
   "nbconvert_exporter": "python",
   "pygments_lexer": "ipython3",
   "version": "3.10.9"
  },
  "orig_nbformat": 4
 },
 "nbformat": 4,
 "nbformat_minor": 2
}
