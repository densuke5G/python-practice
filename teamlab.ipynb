{
 "cells": [
  {
   "cell_type": "code",
   "execution_count": 6,
   "metadata": {},
   "outputs": [
    {
     "name": "stdout",
     "output_type": "stream",
     "text": [
      "11996184\n"
     ]
    }
   ],
   "source": [
    "num = 1997835840\n",
    "list = []\n",
    "\n",
    "for i in range(1, num+1):\n",
    "    if num % i == 0 and i >= 10000 and i <= 99999:\n",
    "        list.append(i)\n",
    "\n",
    "print(sum(list))\n"
   ]
  },
  {
   "cell_type": "code",
   "execution_count": 15,
   "metadata": {},
   "outputs": [
    {
     "name": "stdout",
     "output_type": "stream",
     "text": [
      "19665856\n"
     ]
    }
   ],
   "source": [
    "\n",
    "i = 0\n",
    "list = []\n",
    "\n",
    "while i < 112:\n",
    "    if i % 2 == 1:\n",
    "        list.append(i**3)\n",
    "    i += 1\n",
    "\n",
    "print(sum(list))"
   ]
  },
  {
   "cell_type": "code",
   "execution_count": 20,
   "metadata": {},
   "outputs": [
    {
     "name": "stdout",
     "output_type": "stream",
     "text": [
      "356307915\n"
     ]
    }
   ],
   "source": [
    "num = 33333\n",
    "list = []\n",
    "\n",
    "for i in range(1, num+1):\n",
    "    if i % 3 == 0 or len(\"i\") == 3 or \"3\" in str(i):\n",
    "        list.append(i)\n",
    "\n",
    "print(sum(list))"
   ]
  },
  {
   "cell_type": "code",
   "execution_count": null,
   "metadata": {},
   "outputs": [],
   "source": []
  }
 ],
 "metadata": {
  "kernelspec": {
   "display_name": "base",
   "language": "python",
   "name": "python3"
  },
  "language_info": {
   "codemirror_mode": {
    "name": "ipython",
    "version": 3
   },
   "file_extension": ".py",
   "mimetype": "text/x-python",
   "name": "python",
   "nbconvert_exporter": "python",
   "pygments_lexer": "ipython3",
   "version": "3.10.9"
  },
  "orig_nbformat": 4
 },
 "nbformat": 4,
 "nbformat_minor": 2
}
