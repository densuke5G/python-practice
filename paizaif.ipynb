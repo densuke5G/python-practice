{
 "cells": [
  {
   "cell_type": "code",
   "execution_count": 1,
   "metadata": {},
   "outputs": [
    {
     "name": "stdout",
     "output_type": "stream",
     "text": [
      "変数aの値は50未満です\n"
     ]
    }
   ],
   "source": [
    "a = 10\n",
    "\n",
    "if a < 50:\n",
    "    print(\"変数aの値は50未満です\")"
   ]
  },
  {
   "cell_type": "code",
   "execution_count": 2,
   "metadata": {},
   "outputs": [
    {
     "name": "stdout",
     "output_type": "stream",
     "text": [
      "変数aの値は100以上です\n"
     ]
    }
   ],
   "source": [
    "a = 100\n",
    "if a < 100:\n",
    "    print(\"変数aの値は100未満です\")\n",
    "else:\n",
    "    print(\"変数aの値は100以上です\")"
   ]
  },
  {
   "cell_type": "code",
   "execution_count": 1,
   "metadata": {},
   "outputs": [
    {
     "name": "stdout",
     "output_type": "stream",
     "text": [
      "変数aの値は100以上150未満\n"
     ]
    }
   ],
   "source": [
    "a = 100\n",
    "if a < 100:\n",
    "    print(\"変数aの値は100未満です\")\n",
    "elif 100 <= a < 150 :\n",
    "    print(\"変数aの値は100以上150未満\")\n",
    "else:\n",
    "    print(\"変数aの値はそれ以上です\")"
   ]
  },
  {
   "cell_type": "markdown",
   "metadata": {},
   "source": [
    "pass 文は「なにもしない」ことを表す文\n",
    "\n",
    "その節でなにも処理をしないときに書く"
   ]
  },
  {
   "cell_type": "code",
   "execution_count": 2,
   "metadata": {},
   "outputs": [],
   "source": [
    "a = -1\n",
    "if a < 0:\n",
    "    pass\n",
    "elif a < 18:\n",
    "    print(f\"{a}歳は未成年です\")\n",
    "else:\n",
    "    print(f\"{a}歳は成人です\")"
   ]
  }
 ],
 "metadata": {
  "kernelspec": {
   "display_name": "base",
   "language": "python",
   "name": "python3"
  },
  "language_info": {
   "codemirror_mode": {
    "name": "ipython",
    "version": 3
   },
   "file_extension": ".py",
   "mimetype": "text/x-python",
   "name": "python",
   "nbconvert_exporter": "python",
   "pygments_lexer": "ipython3",
   "version": "3.10.9"
  },
  "orig_nbformat": 4
 },
 "nbformat": 4,
 "nbformat_minor": 2
}
