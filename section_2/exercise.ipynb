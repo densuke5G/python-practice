{
  "cells": [
    {
      "cell_type": "markdown",
      "metadata": {
        "colab_type": "text",
        "id": "view-in-github"
      },
      "source": [
        "<a href=\"https://colab.research.google.com/github/yukinaga/minnano_ai/blob/master/section_2/exercise.ipynb\" target=\"_parent\"><img src=\"https://colab.research.google.com/assets/colab-badge.svg\" alt=\"Open In Colab\"/></a>"
      ]
    },
    {
      "cell_type": "markdown",
      "metadata": {
        "colab_type": "text",
        "id": "920wQYwZMtfN"
      },
      "source": [
        "# 演習\n",
        "Pythonのコードを修正し、エラーが発生しないようにしましょう。"
      ]
    },
    {
      "cell_type": "markdown",
      "metadata": {
        "colab_type": "text",
        "id": "fEbTVQgTM4CU"
      },
      "source": [
        "## 課題1\n",
        "以下の、リストに奇数を格納し表示するコードを実行するとエラーが発生します。  \n",
        "問題箇所を修正し、実行してもエラーが発生しないようにしましょう。"
      ]
    },
    {
      "cell_type": "code",
      "execution_count": 1,
      "metadata": {
        "colab": {},
        "colab_type": "code",
        "id": "RvXWGy1jNE7d"
      },
      "outputs": [
        {
          "name": "stdout",
          "output_type": "stream",
          "text": [
            "[1, 3, 5, 7, 9]\n"
          ]
        }
      ],
      "source": [
        "a = []\n",
        "for i in range(0, 10):\n",
        "    if i%2 == 1:\n",
        "        a.append(i)\n",
        "\n",
        "print (a)"
      ]
    },
    {
      "cell_type": "markdown",
      "metadata": {
        "colab_type": "text",
        "id": "o4TvHUzvOVEG"
      },
      "source": [
        "## 課題2\n",
        "以下の、インスタンスを2つ生成し、リストに格納して表示するコードを実行するとエラーが発生します。  \n",
        "問題箇所を修正し、実行してもエラーが発生しないようにしましょう。  \n",
        "なお、修正箇所は一箇所とは限りません。"
      ]
    },
    {
      "cell_type": "code",
      "execution_count": 2,
      "metadata": {
        "colab": {},
        "colab_type": "code",
        "id": "DVpSTK_gOc5N"
      },
      "outputs": [
        {
          "name": "stdout",
          "output_type": "stream",
          "text": [
            "Tama 4\n",
            "Hana 14\n"
          ]
        }
      ],
      "source": [
        "class Cat:\n",
        "    def set_cat(self, n, a):\n",
        "        self.name = n\n",
        "        self.age = a\n",
        "        \n",
        "cat1 = Cat()\n",
        "cat1.set_cat(\"Tama\", 4)\n",
        "\n",
        "cat2 = Cat()\n",
        "cat2.set_cat(\"Hana\", 14)\n",
        "\n",
        "cats = [cat1, cat2]  # リストに格納\n",
        "for c in cats:\n",
        "    print(c.name, c.age)"
      ]
    },
    {
      "cell_type": "markdown",
      "metadata": {
        "colab_type": "text",
        "id": "o3vxFS_TTNg2"
      },
      "source": [
        "## 解答例\n",
        "以下は解答例です。どうしても手がかりがつかめないときのみ、参考にしましょう。"
      ]
    },
    {
      "cell_type": "code",
      "execution_count": null,
      "metadata": {
        "colab": {},
        "colab_type": "code",
        "id": "GTBNDFC6TZ7w"
      },
      "outputs": [],
      "source": [
        "a = []\n",
        "for i in range(0, 10):\n",
        "    if i%2 == 1:\n",
        "        a.append(i)\n",
        "\n",
        "print (a)"
      ]
    },
    {
      "cell_type": "code",
      "execution_count": null,
      "metadata": {
        "colab": {},
        "colab_type": "code",
        "id": "WirKZ5tnTaGJ"
      },
      "outputs": [],
      "source": [
        "class Cat:\n",
        "    def set_cat(self, n, a):\n",
        "        self.name = n\n",
        "        self.age = a\n",
        "        \n",
        "cat1 = Cat()\n",
        "cat1.set_cat(\"Tama\", 4)\n",
        "\n",
        "cat2 = Cat()\n",
        "cat2.set_cat(\"Hana\", 14)\n",
        "\n",
        "cats = [cat1, cat2]  # リストに格納\n",
        "for c in cats:\n",
        "    print(c.name, c.age)"
      ]
    }
  ],
  "metadata": {
    "colab": {
      "authorship_tag": "ABX9TyMJHij06qtBZR4Sekt/qPCX",
      "collapsed_sections": [],
      "include_colab_link": true,
      "name": "exercise.ipynb",
      "provenance": []
    },
    "kernelspec": {
      "display_name": "Python 3",
      "name": "python3"
    },
    "language_info": {
      "codemirror_mode": {
        "name": "ipython",
        "version": 3
      },
      "file_extension": ".py",
      "mimetype": "text/x-python",
      "name": "python",
      "nbconvert_exporter": "python",
      "pygments_lexer": "ipython3",
      "version": "3.11.4"
    }
  },
  "nbformat": 4,
  "nbformat_minor": 0
}
