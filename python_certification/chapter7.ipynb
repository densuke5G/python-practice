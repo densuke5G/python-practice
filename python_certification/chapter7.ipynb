{
 "cells": [
  {
   "cell_type": "code",
   "execution_count": null,
   "metadata": {},
   "outputs": [],
   "source": []
  },
  {
   "cell_type": "markdown",
   "metadata": {},
   "source": [
    "1.モジュール\n",
    "C?\n",
    "正解：C　calendarはモジュール"
   ]
  },
  {
   "cell_type": "markdown",
   "metadata": {},
   "source": [
    "2.インポート\n",
    "B\n",
    "正解：B\n",
    "関数のみをインポートしたい場合はfrom import を使う"
   ]
  },
  {
   "cell_type": "markdown",
   "metadata": {},
   "source": [
    "3.インポート＊\n",
    "D？\n",
    "不正解：B\n",
    "import * でインポートした場合、_で始まる名前はインポートされない　モジュールの名前もインポートされない"
   ]
  },
  {
   "cell_type": "markdown",
   "metadata": {},
   "source": [
    "4.名前空間\n",
    "D？\n",
    "不正解：C\n",
    "as はモジュールにも関数にも使える"
   ]
  },
  {
   "cell_type": "markdown",
   "metadata": {},
   "source": [
    "5.エントリーポイント×　メインモジュール○\n",
    "D\n",
    "正解：D"
   ]
  },
  {
   "cell_type": "code",
   "execution_count": null,
   "metadata": {},
   "outputs": [],
   "source": [
    "if __name__ == \"__main__\"\n",
    "    # 処理の内容"
   ]
  },
  {
   "cell_type": "markdown",
   "metadata": {},
   "source": [
    "6.意味わからん\n",
    "C？\n",
    "不正解：A\n",
    "__init__.py とは？\n",
    "モジュールのディレクトリが違う場合、呼び出すときに必要？\n",
    "これがあると同じディレクトリにあるかのように呼び出せる(import xxx)\n",
    "主にサブモジュールのインポートを記述する　このパスを書くときは相対パスになる\n",
    "module5.module6.function()のように書く必要がない？\n",
    "https://qiita.com/msi/items/d91ea3900373ff8b09d7  分からない\n",
    "https://ya6mablog.com/how-to-use-init-py/　分かりやすい？"
   ]
  },
  {
   "cell_type": "markdown",
   "metadata": {},
   "source": [
    "7.パッケージ・・\n",
    "D？\n",
    "不正解：C\n",
    "相対インポートについて\n",
    "from .. import 一つ上の階層の指定\n",
    "from . import 同じ階層\n",
    "誤っているのはC（同じ階層にdumpがないため）"
   ]
  },
  {
   "cell_type": "markdown",
   "metadata": {},
   "source": []
  }
 ],
 "metadata": {
  "language_info": {
   "name": "python"
  }
 },
 "nbformat": 4,
 "nbformat_minor": 2
}
