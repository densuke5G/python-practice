{
 "cells": [
  {
   "cell_type": "code",
   "execution_count": null,
   "metadata": {},
   "outputs": [],
   "source": [
    "判定と繰り返し"
   ]
  },
  {
   "cell_type": "markdown",
   "metadata": {},
   "source": [
    "1.論理演算子\n",
    "B\n",
    "正解：B　"
   ]
  },
  {
   "cell_type": "markdown",
   "metadata": {},
   "source": [
    "2.and, or\n",
    "D？\n",
    "不正解：A　短絡演算子\n",
    "andが続く場合、「最初に偽」になった時点で評価をやめる\n",
    "orの場合、「最初に真」で評価をやめる\n",
    "整数も比較して真偽を出せる"
   ]
  },
  {
   "cell_type": "code",
   "execution_count": 4,
   "metadata": {},
   "outputs": [
    {
     "name": "stdout",
     "output_type": "stream",
     "text": [
      "0\n",
      "0\n",
      "1\n"
     ]
    }
   ],
   "source": [
    "def num(value):\n",
    "    return value\n",
    "print(num(0))\n",
    "print(0 and 1)\n",
    "print(0 or 1)"
   ]
  },
  {
   "cell_type": "markdown",
   "metadata": {},
   "source": [
    "3.Noneか判定\n",
    "B\n",
    "不正解：C　if value is None: が正しい\n",
    "if not はただの反転？"
   ]
  },
  {
   "cell_type": "code",
   "execution_count": 5,
   "metadata": {},
   "outputs": [
    {
     "name": "stdout",
     "output_type": "stream",
     "text": [
      "True\n",
      "False\n"
     ]
    }
   ],
   "source": [
    "a = None\n",
    "print(a is None)\n",
    "# True\n",
    "\n",
    "print(a is not None)\n",
    "# False"
   ]
  },
  {
   "cell_type": "markdown",
   "metadata": {},
   "source": [
    "4.for文\n",
    "D\n",
    "正解：D"
   ]
  },
  {
   "cell_type": "markdown",
   "metadata": {},
   "source": [
    "5.range\n",
    "C\n",
    "正解：C　range(start, stop, step)"
   ]
  },
  {
   "cell_type": "markdown",
   "metadata": {},
   "source": [
    "6.ループ操作\n",
    "A\n",
    "正解：A　ループを抜け出すのはbreak"
   ]
  },
  {
   "cell_type": "markdown",
   "metadata": {},
   "source": [
    "7.辞書取得\n",
    "C？\n",
    "正解：C　辞書のキーと値を同時に取り出すのはitems()"
   ]
  },
  {
   "cell_type": "code",
   "execution_count": 7,
   "metadata": {},
   "outputs": [
    {
     "name": "stdout",
     "output_type": "stream",
     "text": [
      "key1 100\n",
      "key2 200\n",
      "key3 300\n",
      "{'key1': 150, 'key2': 200, 'key3': 300}\n"
     ]
    }
   ],
   "source": [
    "data = {'key1':100, 'key2':200, 'key3':300}\n",
    "for k, v in data.items():\n",
    "    print(k, v)\n",
    "\n",
    "data['key1'] = 150\n",
    "print(data)"
   ]
  },
  {
   "cell_type": "markdown",
   "metadata": {},
   "source": [
    "8.enumarateとは\n",
    "C？\n",
    "正解：C　イテラブルからインデックスと要素を同時に取得できる！"
   ]
  },
  {
   "cell_type": "code",
   "execution_count": 8,
   "metadata": {},
   "outputs": [
    {
     "name": "stdout",
     "output_type": "stream",
     "text": [
      "R\n"
     ]
    }
   ],
   "source": [
    "for i, elem in enumerate(\"WORD\"):\n",
    "    if i == 2:\n",
    "        print(elem)"
   ]
  },
  {
   "cell_type": "markdown",
   "metadata": {},
   "source": [
    "9.sorted\n",
    "D\n",
    "正解：D　\n",
    "sorted()    辞書順に並べ替え\n",
    "reversed()  逆順にする"
   ]
  },
  {
   "cell_type": "markdown",
   "metadata": {},
   "source": [
    "10.zip\n",
    "B？\n",
    "不正解：D　zip()\n",
    "イテラブルから並列に要素を取得\n",
    "文字列 * は個数が増える"
   ]
  },
  {
   "cell_type": "code",
   "execution_count": 10,
   "metadata": {},
   "outputs": [
    {
     "name": "stdout",
     "output_type": "stream",
     "text": [
      "1\n",
      "22\n",
      "333\n"
     ]
    }
   ],
   "source": [
    "for n, c in zip([1,2,3], [\"1\",\"2\",\"3\"]):\n",
    "    print(c * n)"
   ]
  }
 ],
 "metadata": {
  "kernelspec": {
   "display_name": "base",
   "language": "python",
   "name": "python3"
  },
  "language_info": {
   "codemirror_mode": {
    "name": "ipython",
    "version": 3
   },
   "file_extension": ".py",
   "mimetype": "text/x-python",
   "name": "python",
   "nbconvert_exporter": "python",
   "pygments_lexer": "ipython3",
   "version": "3.10.9"
  },
  "orig_nbformat": 4
 },
 "nbformat": 4,
 "nbformat_minor": 2
}
