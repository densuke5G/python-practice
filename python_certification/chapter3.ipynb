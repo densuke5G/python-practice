{
 "cells": [
  {
   "cell_type": "code",
   "execution_count": null,
   "metadata": {},
   "outputs": [],
   "source": []
  },
  {
   "cell_type": "markdown",
   "metadata": {},
   "source": [
    "1.リスト\n",
    "C　リストの先頭0\n",
    "正解：C　先頭のインデックスは0"
   ]
  },
  {
   "cell_type": "markdown",
   "metadata": {},
   "source": [
    "2.スライス\n",
    "C　\n",
    "不正解：B　\n",
    "[1,2,3,4]\n",
    "0,1,2,3,4 と数字と数字の間にあるイメージ"
   ]
  },
  {
   "cell_type": "code",
   "execution_count": 1,
   "metadata": {},
   "outputs": [
    {
     "name": "stdout",
     "output_type": "stream",
     "text": [
      "[1, 2] [4]\n"
     ]
    }
   ],
   "source": [
    "data = [1,2,3,4]\n",
    "print(data[:2], data[3:])"
   ]
  },
  {
   "cell_type": "markdown",
   "metadata": {},
   "source": [
    "3.リスト追加\n",
    "C\n",
    "正解：C　list += [1] でも追加できる"
   ]
  },
  {
   "cell_type": "markdown",
   "metadata": {},
   "source": [
    "4.リストの長さ\n",
    "B\n",
    "正解：B"
   ]
  },
  {
   "cell_type": "markdown",
   "metadata": {},
   "source": [
    "5.リストの長さ\n",
    "B\n",
    "正解：B　"
   ]
  },
  {
   "cell_type": "code",
   "execution_count": 4,
   "metadata": {},
   "outputs": [
    {
     "name": "stdout",
     "output_type": "stream",
     "text": [
      "1\n"
     ]
    }
   ],
   "source": [
    "list = [[1,2,3,4]]\n",
    "print(len(list))"
   ]
  },
  {
   "cell_type": "markdown",
   "metadata": {},
   "source": [
    "6.リスト参照\n",
    "A\n",
    "正解：A　2次元のときはインデックスを2つ指定する"
   ]
  },
  {
   "cell_type": "markdown",
   "metadata": {},
   "source": [
    "7..pop()\n",
    "A　\n",
    "正解：A　要素を入れ替える、引数なしpop()は末尾を取り出す\n",
    "スタックとしての使い方"
   ]
  },
  {
   "cell_type": "markdown",
   "metadata": {},
   "source": [
    "8.append()\n",
    "B　\n",
    "正解：B　キューとしての使い方　pop(0)は先頭を取り出す\n",
    "first-in, first-out"
   ]
  },
  {
   "cell_type": "markdown",
   "metadata": {},
   "source": [
    "9.リスト内包表記\n",
    "A\n",
    "正解：A　順番通り"
   ]
  },
  {
   "cell_type": "code",
   "execution_count": 5,
   "metadata": {},
   "outputs": [
    {
     "name": "stdout",
     "output_type": "stream",
     "text": [
      "[(1, 2), (2, 1), (3, 1), (3, 2)]\n"
     ]
    }
   ],
   "source": [
    "print([(i,j) for i in [1,2,3] for j in [1,2] if i != j])"
   ]
  }
 ],
 "metadata": {
  "kernelspec": {
   "display_name": "base",
   "language": "python",
   "name": "python3"
  },
  "language_info": {
   "codemirror_mode": {
    "name": "ipython",
    "version": 3
   },
   "file_extension": ".py",
   "mimetype": "text/x-python",
   "name": "python",
   "nbconvert_exporter": "python",
   "pygments_lexer": "ipython3",
   "version": "3.10.9"
  },
  "orig_nbformat": 4
 },
 "nbformat": 4,
 "nbformat_minor": 2
}
