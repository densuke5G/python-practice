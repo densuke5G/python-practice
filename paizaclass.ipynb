{
 "cells": [
  {
   "cell_type": "code",
   "execution_count": null,
   "metadata": {},
   "outputs": [],
   "source": [
    "class Person:\n",
    "    def __init__(self, name, age):\n",
    "        self.name = name\n",
    "        self.age = age\n",
    "\n",
    "\n",
    "kirishima = Person(\"Kirishima\", 15)"
   ]
  },
  {
   "cell_type": "markdown",
   "metadata": {},
   "source": [
    "仮引数 name の値が \"Kirishima\" で、仮引数 age の値が 15 のインスタンスを生成して、変数 kirishima に代入している\n"
   ]
  },
  {
   "cell_type": "code",
   "execution_count": null,
   "metadata": {},
   "outputs": [],
   "source": [
    "class PersonalComputer:\n",
    "    def __init__(self, ram, strage):\n",
    "        self.ram = ram\n",
    "        self.strage = strage\n",
    "\n",
    "\n",
    "pc = PersonalComputer(8, 128)\n",
    "\n",
    "pc.ram = 16\n",
    "\n",
    "print(pc.ram)"
   ]
  },
  {
   "cell_type": "code",
   "execution_count": 2,
   "metadata": {},
   "outputs": [
    {
     "name": "stdout",
     "output_type": "stream",
     "text": [
      "16\n"
     ]
    }
   ],
   "source": [
    "class PersonalComputer:\n",
    "    def __init__(self, ram, strage):\n",
    "        self.ram = ram\n",
    "        self.strage = strage\n",
    "\n",
    "    def ram_expansion(self, addram):\n",
    "        self.ram += addram\n",
    "\n",
    "\n",
    "pc = PersonalComputer(8, 128)\n",
    "pc.ram_expansion(8)\n",
    "print(pc.ram)"
   ]
  },
  {
   "cell_type": "markdown",
   "metadata": {},
   "source": [
    "クラスを定義するときに定義する \\_\\_init\\_\\_ 関数をコンストラクタと呼ぶ\n",
    "\n",
    "コンストラクタとは、インスタンスが生成されるときに呼び出されるメソッドのこと\n",
    "\n",
    "インスタンスが生成されるときに、1 度だけ呼び出される\n",
    "\n",
    "コンストラクタの役割は主にメンバ変数を用意すること"
   ]
  },
  {
   "cell_type": "markdown",
   "metadata": {},
   "source": [
    "self はインスタンスを示す\n",
    "\n",
    "たとえば kirishima.add_age(4) というコードが実行されると、add_age メソッドの仮引数 self には、インスタンス kirishima が代入される"
   ]
  },
  {
   "cell_type": "markdown",
   "metadata": {},
   "source": [
    "インスタンスを指定して、メソッド内から同一クラスの他のメソッドを呼び出すことができる"
   ]
  },
  {
   "cell_type": "code",
   "execution_count": null,
   "metadata": {},
   "outputs": [],
   "source": [
    "class PersonalComputer:\n",
    "    def __init__(self, ram, strage):\n",
    "        self.ram = ram\n",
    "        self.strage = strage\n",
    "\n",
    "    def ram_expansion(self, gb):\n",
    "        self.ram += gb\n",
    "\n",
    "    def strage_expansion(self, gb):\n",
    "        self.strage += gb\n",
    "\n",
    "    def ram_and_strage_expansion(self, ram_gb, strage_gb):\n",
    "        self.ram_expansion(ram_gb)\n",
    "        self.strage_expansion(strage_gb)\n",
    "\n",
    "\n",
    "\n",
    "pc = PersonalComputer(8, 128)\n",
    "pc.ram_and_strage_expansion(8, 128)\n",
    "print(pc.ram, pc.strage)"
   ]
  },
  {
   "cell_type": "markdown",
   "metadata": {},
   "source": [
    "クラス変数とは、そのクラスから生成されるすべてのインスタンスで共通して使うことができる変数のこと"
   ]
  },
  {
   "cell_type": "markdown",
   "metadata": {},
   "source": [
    "クラス変数を使うには次の 2 通りのコードの書き方がある\n",
    "\n",
    "クラス名.クラス変数名\n",
    "\n",
    "インスタンス.クラス変数名"
   ]
  },
  {
   "cell_type": "code",
   "execution_count": 1,
   "metadata": {},
   "outputs": [
    {
     "name": "stdout",
     "output_type": "stream",
     "text": [
      "classic computer\n",
      "classic computer\n"
     ]
    }
   ],
   "source": [
    "class PersonalComputer:\n",
    "    type = \"classic computer\"\n",
    "\n",
    "    def __init__(self, ram, strage):\n",
    "        self.ram = ram\n",
    "        self.strage = strage\n",
    "\n",
    "    def ram_expansion(self, gb):\n",
    "        self.ram += gb\n",
    "\n",
    "print(PersonalComputer.type)\n",
    "\n",
    "pc = PersonalComputer(16, 256)\n",
    "\n",
    "print(pc.type)"
   ]
  },
  {
   "cell_type": "markdown",
   "metadata": {},
   "source": [
    "クラス変数とメンバ変数の変数名が重複した場合は、メンバ変数が優先される"
   ]
  },
  {
   "cell_type": "markdown",
   "metadata": {},
   "source": [
    "自作クラスのインスタンスもリストやタプルの要素にできる"
   ]
  },
  {
   "cell_type": "code",
   "execution_count": 3,
   "metadata": {},
   "outputs": [
    {
     "name": "stdout",
     "output_type": "stream",
     "text": [
      "Kirishima 15\n",
      "Rokumura 16\n",
      "Midorikawa 15\n"
     ]
    }
   ],
   "source": [
    "class Person:\n",
    "    def __init__(self, name, age):\n",
    "        self.name = name\n",
    "        self.age = age\n",
    "\n",
    "    def add_age(self, year):\n",
    "        self.age += year\n",
    "\n",
    "    def add_and_print_age(self, year):\n",
    "        self.add_age(year)\n",
    "        print(self.age)\n",
    "\n",
    "\n",
    "people = [Person(\"Kirishima\", 15), Person(\"Rokumura\", 16), Person(\"Midorikawa\", 15)]\n",
    "for person in people:\n",
    "    print(person.name, person.age)"
   ]
  },
  {
   "cell_type": "markdown",
   "metadata": {},
   "source": [
    "プライベート変数とは、アクセス制限がかかった変数で、クラスの外側からメンバ変数を自由に使うことができない変数のこと"
   ]
  },
  {
   "cell_type": "markdown",
   "metadata": {},
   "source": [
    "Python では、名前の先頭にアンダーバーが 2 つ付いている属性は、その名前の先頭に _クラス名 が付いたものに自動で変換される"
   ]
  },
  {
   "cell_type": "code",
   "execution_count": null,
   "metadata": {},
   "outputs": [],
   "source": [
    "class PersonalComputer:\n",
    "    def __init__(self, ram, strage):\n",
    "        self.__ram = ram\n",
    "        self.strage = strage\n",
    "\n",
    "\n",
    "pc = PersonalComputer(8, 128)\n",
    "try:\n",
    "    pc.ram += 8\n",
    "    print(pc.ram)\n",
    "except:\n",
    "    print(\"プライベート変数にはアクセスできません。\")\n"
   ]
  }
 ],
 "metadata": {
  "kernelspec": {
   "display_name": "base",
   "language": "python",
   "name": "python3"
  },
  "language_info": {
   "codemirror_mode": {
    "name": "ipython",
    "version": 3
   },
   "file_extension": ".py",
   "mimetype": "text/x-python",
   "name": "python",
   "nbconvert_exporter": "python",
   "pygments_lexer": "ipython3",
   "version": "3.10.9"
  },
  "orig_nbformat": 4
 },
 "nbformat": 4,
 "nbformat_minor": 2
}
