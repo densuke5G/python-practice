{
 "cells": [
  {
   "cell_type": "code",
   "execution_count": null,
   "metadata": {},
   "outputs": [],
   "source": [
    "class, object"
   ]
  },
  {
   "cell_type": "markdown",
   "metadata": {},
   "source": [
    "1.method\n",
    "B？\n",
    "正解：B\n",
    "クラス変数：selfなし、すべてのインスタンスで共有される　Javaでいうstaticがないぞ\n",
    "インスタンス変数：インスタンスごとに固有の変数\n",
    "https://qiita.com/ugu/items/afab2410adec60854b38\n",
    "を見るべし\n",
    "def init で初めてインスタンス変数が作成される"
   ]
  },
  {
   "cell_type": "markdown",
   "metadata": {},
   "source": [
    "2.インスタンス化\n",
    "A\n",
    "正解：A\n",
    "インスタンス化：　duck = Duck()"
   ]
  },
  {
   "cell_type": "markdown",
   "metadata": {},
   "source": [
    "3.ローカル変数とインスタンス変数\n",
    "A\n",
    "正解：A\n",
    "インスタンス変数を参照する場合はself.を付ける必要がある"
   ]
  },
  {
   "cell_type": "markdown",
   "metadata": {},
   "source": [
    "4.次の結果\n",
    "B　メソッドにselfいる？\n",
    "不正解：D\n",
    "同一クラスにある別のメソッドを呼び出す際はselfをつける！！"
   ]
  },
  {
   "cell_type": "markdown",
   "metadata": {},
   "source": [
    "5.継承\n",
    "D\n",
    "正解：D\n",
    "class Duck(Bird) カッコ内に書くだけ"
   ]
  },
  {
   "cell_type": "markdown",
   "metadata": {},
   "source": [
    "6.インスタンス判定\n",
    "C　isinstance()\n",
    "正解：C\n",
    "インスタンスの型が何か判別する\n",
    "isinstance(オブジェクト, 型の名前)"
   ]
  },
  {
   "cell_type": "code",
   "execution_count": 1,
   "metadata": {},
   "outputs": [
    {
     "name": "stdout",
     "output_type": "stream",
     "text": [
      "True\n"
     ]
    }
   ],
   "source": [
    "print(isinstance(\"Python\", str))"
   ]
  }
 ],
 "metadata": {
  "language_info": {
   "name": "python"
  }
 },
 "nbformat": 4,
 "nbformat_minor": 2
}
