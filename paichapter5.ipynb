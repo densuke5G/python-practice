{
 "cells": [
  {
   "cell_type": "code",
   "execution_count": 2,
   "metadata": {},
   "outputs": [
    {
     "name": "stdout",
     "output_type": "stream",
     "text": [
      "10時から会議室 Aで会議がおこなわれる。\n",
      "変数sの値はpaizaです。\n"
     ]
    }
   ],
   "source": [
    "time = 10 \n",
    "place = \"会議室 A\"\n",
    "print(f\"{time}時から{place}で会議がおこなわれる。\")\n",
    "\n",
    "s = \"paiza\"\n",
    "print(f\"変数sの値は{s}です。\")"
   ]
  }
 ],
 "metadata": {
  "kernelspec": {
   "display_name": "base",
   "language": "python",
   "name": "python3"
  },
  "language_info": {
   "codemirror_mode": {
    "name": "ipython",
    "version": 3
   },
   "file_extension": ".py",
   "mimetype": "text/x-python",
   "name": "python",
   "nbconvert_exporter": "python",
   "pygments_lexer": "ipython3",
   "version": "3.10.9"
  },
  "orig_nbformat": 4
 },
 "nbformat": 4,
 "nbformat_minor": 2
}
