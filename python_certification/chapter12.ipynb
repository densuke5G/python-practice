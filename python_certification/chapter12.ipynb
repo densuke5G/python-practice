{
 "cells": [
  {
   "cell_type": "code",
   "execution_count": null,
   "metadata": {},
   "outputs": [],
   "source": [
    "kasoukannkyou"
   ]
  },
  {
   "cell_type": "markdown",
   "metadata": {},
   "source": [
    "1.仮想環境\n",
    "C\n",
    "正解：C\n",
    "venvモジュールを使う\n"
   ]
  },
  {
   "cell_type": "markdown",
   "metadata": {},
   "source": [
    "2.導入時のコマンド\n",
    "分からん\n",
    "不正解：A\n",
    "python -m venv ディレクトリ名\n",
    "有効化\n",
    "source ディレクトリ/bin/activate\n",
    "pyenvはさらに細かく、アプリごとにPythonのバージョンを指定できる"
   ]
  },
  {
   "cell_type": "markdown",
   "metadata": {},
   "source": [
    "3.pipコマンド\n",
    "D\n",
    "不正解：C\n",
    "pipはすでにインストールされていてもバージョン変更できる\n",
    "インストールされてた場合\n",
    "ただのpipで最新はインストールされない"
   ]
  },
  {
   "cell_type": "markdown",
   "metadata": {},
   "source": [
    "4.パッケージを表示\n",
    "B\n",
    "正解：B\n",
    "pip list"
   ]
  },
  {
   "cell_type": "code",
   "execution_count": null,
   "metadata": {},
   "outputs": [],
   "source": []
  }
 ],
 "metadata": {
  "kernelspec": {
   "display_name": "base",
   "language": "python",
   "name": "python3"
  },
  "language_info": {
   "name": "python",
   "version": "3.10.9"
  }
 },
 "nbformat": 4,
 "nbformat_minor": 2
}
