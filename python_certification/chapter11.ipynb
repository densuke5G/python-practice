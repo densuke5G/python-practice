{
 "cells": [
  {
   "cell_type": "code",
   "execution_count": null,
   "metadata": {},
   "outputs": [],
   "source": [
    "標準ライブラリ"
   ]
  },
  {
   "cell_type": "markdown",
   "metadata": {},
   "source": [
    "1.OSモジュール\n",
    "C\n",
    "不正解：B\n",
    "os.getcwd\n",
    "os.chdir\n",
    "現地点を取得、カレントディレクトリを移動"
   ]
  },
  {
   "cell_type": "code",
   "execution_count": 2,
   "metadata": {},
   "outputs": [
    {
     "name": "stdout",
     "output_type": "stream",
     "text": [
      "c:\\Users\\danie\\Documents\\practice\\python_certification\n"
     ]
    }
   ],
   "source": [
    "import os\n",
    "print(os.getcwd())"
   ]
  },
  {
   "cell_type": "markdown",
   "metadata": {},
   "source": [
    "2.globモジュール\n",
    "B\n",
    "正解：B\n",
    "glob.glob()  ファイル名の取得"
   ]
  },
  {
   "cell_type": "code",
   "execution_count": 3,
   "metadata": {},
   "outputs": [
    {
     "data": {
      "text/plain": [
       "['chapter1.ipynb',\n",
       " 'chapter10.ipynb',\n",
       " 'chapter11.ipynb',\n",
       " 'chapter2.ipynb',\n",
       " 'chapter3.ipynb',\n",
       " 'chapter4.ipynb',\n",
       " 'chapter5.ipynb',\n",
       " 'chapter6.ipynb',\n",
       " 'chapter7.ipynb',\n",
       " 'chapter8.ipynb',\n",
       " 'chapter9.ipynb']"
      ]
     },
     "execution_count": 3,
     "metadata": {},
     "output_type": "execute_result"
    }
   ],
   "source": [
    "import glob\n",
    "glob.glob(\"chapter*\")"
   ]
  },
  {
   "cell_type": "markdown",
   "metadata": {},
   "source": [
    "3.sysモジュール\n",
    "B\n",
    "不正解：C\n",
    "argv() でコマンドライン引数を取得"
   ]
  },
  {
   "cell_type": "markdown",
   "metadata": {},
   "source": [
    "4.argparseとは？ コマンドライン引数取得できる\n",
    "結局、何に使うの？　引数を解析するとあるが……\n",
    "C\n",
    "不正解：B\n",
    "add_argument でコマンド時の属性を定義できる\n",
    "問題ではhead とbody\n",
    "実行時 --head で引数渡す"
   ]
  },
  {
   "cell_type": "markdown",
   "metadata": {},
   "source": [
    "5.log対数？\n",
    "B\n",
    "不正解：A\n",
    "log(値、底)で戻り値（対数）値が底の何乗か"
   ]
  },
  {
   "cell_type": "markdown",
   "metadata": {},
   "source": [
    "6.random\n",
    "C\n",
    "不正解：D\n",
    "choice()は乱数を1つ取り出すものだが、それを10回繰り返している"
   ]
  },
  {
   "cell_type": "markdown",
   "metadata": {},
   "source": [
    "7.説明文？ -1から1未満\n",
    "C\n",
    "不正解：D\n",
    "random()は0から1までの小数点で乱数を生成する\n",
    "random() * 2 は範囲が2倍　０～２まで\n",
    "random() -1　は最終結果に-1する"
   ]
  },
  {
   "cell_type": "code",
   "execution_count": 6,
   "metadata": {},
   "outputs": [
    {
     "name": "stdout",
     "output_type": "stream",
     "text": [
      "97.47859303294409\n"
     ]
    }
   ],
   "source": [
    "import random\n",
    "print(random.random() * 100)"
   ]
  },
  {
   "cell_type": "markdown",
   "metadata": {},
   "source": [
    "8.statistics\n",
    "A\n",
    "正解：A\n",
    "statistics.mean 平均値\n",
    "statistics.median 中央値\n",
    "statistics.variance 不偏分散　を求める"
   ]
  },
  {
   "cell_type": "markdown",
   "metadata": {},
   "source": [
    "9.urllib.request\n",
    "B\n",
    "不正解：D\n",
    "urlopen() でWebサイトから情報を取得\n",
    "ファイルのopen()と使い方同じ？"
   ]
  },
  {
   "cell_type": "markdown",
   "metadata": {},
   "source": [
    "10.datetime\n",
    "A\n",
    "正解：A\n",
    "datetime型のものを指定の形式で出力する\n",
    "strftime(フォーマット)"
   ]
  },
  {
   "cell_type": "markdown",
   "metadata": {},
   "source": [
    "11.datetime\n",
    "D\n",
    "正解：D\n",
    "datetimeの差分は引き算で取得できる\n",
    "days()で日数で取得"
   ]
  },
  {
   "cell_type": "markdown",
   "metadata": {},
   "source": [
    "12.unittest assertionError?　単体テスト！\n",
    "???\n",
    "不正解：D\n",
    "テスト対象をインポートして行う\n",
    "python -m unittest と実行すると、テスト結果を確認できる\n",
    "\n",
    "self.assertEqual(actual, excepted)\n",
    "期待値との比較"
   ]
  },
  {
   "cell_type": "markdown",
   "metadata": {},
   "source": [
    "13.何の問題???　{i:04}　出力データの整形\n",
    "???\n",
    "不正解：D\n",
    "リストの要素ごとに改行する　pprint()\n",
    "{i:04}とは 0はゼロフィリング、4桁で出力し、足らなければ0を補うということ"
   ]
  }
 ],
 "metadata": {
  "kernelspec": {
   "display_name": "base",
   "language": "python",
   "name": "python3"
  },
  "language_info": {
   "name": "python",
   "version": "undefined.undefined.undefined"
  }
 },
 "nbformat": 4,
 "nbformat_minor": 2
}
