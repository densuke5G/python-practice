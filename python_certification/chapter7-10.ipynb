{
 "cells": [
  {
   "cell_type": "code",
   "execution_count": null,
   "metadata": {},
   "outputs": [],
   "source": [
    "chapter7"
   ]
  },
  {
   "cell_type": "markdown",
   "metadata": {},
   "source": [
    "1.C\n",
    "正解：C\n",
    "\n",
    "2.B\n",
    "正解：B\n",
    "\n",
    "3.B?\n",
    "正解：B　_で始まる名前はインポートされない\n",
    "\n",
    "4.C\n",
    "正解：C\n",
    "\n",
    "5.D\n",
    "正解：D　if __name__ = __main__\n",
    "\n",
    "6.C? init.pyの内容\n",
    "不正解：A　何も書いてない\n",
    "設問のインポートは絶対インポートであり、\n",
    "__init__.pyに何も書いていないときに使われる記述\n",
    "__init__.pyには相対パスが書いてあれば、ファイルにimport dumpを書くことができる\n",
    "\n",
    "7.C\n",
    "正解：C\n",
    "from .. import module は1つ前の階層\n"
   ]
  },
  {
   "cell_type": "markdown",
   "metadata": {},
   "source": [
    "chapter8\n",
    "\n",
    "1.B\n",
    "正解：B\n",
    "b単体はない\n",
    "2.D load()は辞書？\n",
    "正解：D\n",
    "read()\n",
    "\n",
    "3.C\n",
    "正解：C\n",
    "\n",
    "4.C?\n",
    "不正解：B\n",
    "open()した後のfpはファイルオブジェクトであり、イテレータだ\n",
    "そのままfor文に突っ込める\n",
    "list(fp) と　fp.readlines() は同じ意味（リストにする）\n",
    "fp.read()をfor文にかけると1文字ずつの処理になる！　read()は1文？\n",
    "\n",
    "5.D\n",
    "正解：D\n",
    "\n",
    "6.A?\n",
    "不正解：B\n",
    "json.dumps()は辞書をJSONにする、変数を引数に取る\n",
    "json.dump()はファイルオブジェクトを引数にとる\n",
    "\n",
    "変数から変数に変換するのがloads(), dumps()\n",
    "変数とファイル間でデータをやり取りするのが、load(), dump()\n",
    "\n",
    "7.A?\n",
    "正解：A\n"
   ]
  },
  {
   "cell_type": "markdown",
   "metadata": {},
   "source": [
    "chapter9\n",
    "\n",
    "1.C\n",
    "正解：C\n",
    "\n",
    "2.A?\n",
    "正解：A\n",
    "KeyError：辞書に存在しないキーを参照するとエラー\n",
    "\n",
    "3.D\n",
    "正解：D\n",
    "\n",
    "4.A\n",
    "正解：A\n"
   ]
  },
  {
   "cell_type": "markdown",
   "metadata": {},
   "source": [
    "chapter10\n",
    "\n",
    "1.B\n",
    "正解：B\n",
    "\n",
    "2.A\n",
    "正解：A\n",
    "\n",
    "3.A\n",
    "正解：A\n",
    "\n",
    "4.D\n",
    "正解：D\n",
    "\n",
    "5.D\n",
    "正解：D\n",
    "\n",
    "6.C?\n",
    "正解：C！\n",
    "\n"
   ]
  }
 ],
 "metadata": {
  "kernelspec": {
   "display_name": "base",
   "language": "python",
   "name": "python3"
  },
  "language_info": {
   "name": "python",
   "version": "3.10.9"
  }
 },
 "nbformat": 4,
 "nbformat_minor": 2
}
