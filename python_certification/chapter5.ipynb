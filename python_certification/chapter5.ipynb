{
 "cells": [
  {
   "cell_type": "code",
   "execution_count": null,
   "metadata": {},
   "outputs": [],
   "source": []
  },
  {
   "cell_type": "markdown",
   "metadata": {},
   "source": [
    "1.定義\n",
    "C\n",
    "正解：C"
   ]
  },
  {
   "cell_type": "markdown",
   "metadata": {},
   "source": [
    "2.誤っているもの\n",
    "C\n",
    "正解：C"
   ]
  },
  {
   "cell_type": "markdown",
   "metadata": {},
   "source": [
    "3.変数\n",
    "A\n",
    "正解：A　ローカル変数に代入してもグローバル変数は変化しない\n",
    "global を使えばアクセスできる"
   ]
  },
  {
   "cell_type": "markdown",
   "metadata": {},
   "source": [
    "4.キーワード引数\n",
    "B\n",
    "正解：B　キーワード引数は位置引数の後に与える！"
   ]
  },
  {
   "cell_type": "markdown",
   "metadata": {},
   "source": [
    "5.意味わからん\n",
    "不正解：C　引数にはデフォルト値を与えることができる\n",
    "これは呼び出し時に値を与えないとデフォルト値で実行される\n",
    "デフォルト値はコード読み込み時にのみ評価され、関数より下のコードは評価されない"
   ]
  },
  {
   "cell_type": "code",
   "execution_count": 1,
   "metadata": {},
   "outputs": [
    {
     "name": "stdout",
     "output_type": "stream",
     "text": [
      "Hello world\n"
     ]
    }
   ],
   "source": [
    "default_message = \"Hello\"\n",
    "\n",
    "def message(message1=default_message, message2=\"\"):\n",
    "    print(f\"{message1} {message2}\")\n",
    "\n",
    "default_message = \"こんにちは\"\n",
    "\n",
    "message2 = \"world\"\n",
    "\n",
    "message(message2=message2)"
   ]
  },
  {
   "cell_type": "markdown",
   "metadata": {},
   "source": [
    "6.デフォルトのリスト\n",
    "D？\n",
    "正解：D　引数のデフォルト値がリストだとデフォルト値が変化する"
   ]
  },
  {
   "cell_type": "markdown",
   "metadata": {},
   "source": [
    "7.キーワード引数？\n",
    "A?\n",
    "正解：A　引数をタプル・辞書として入れる場合\n",
    "def func(*taple **dictionary)"
   ]
  },
  {
   "cell_type": "markdown",
   "metadata": {},
   "source": [
    "8.sep=options?\n",
    "B？\n",
    "不正解：C　アンパックして引数に渡す？？\n",
    "渡されたらまた元に戻る？"
   ]
  },
  {
   "cell_type": "code",
   "execution_count": 2,
   "metadata": {},
   "outputs": [
    {
     "name": "stdout",
     "output_type": "stream",
     "text": [
      "spam&ham&eggs\n"
     ]
    }
   ],
   "source": [
    "def concat(*args, sep=\"/\"):\n",
    "    return sep.join(args)   # join→sepを使って文字列連結\n",
    "\n",
    "words = (\"spam\", \"ham\", \"eggs\")\n",
    "options = {\"sep\": \"&\"}\n",
    "print(concat(*words, **options))"
   ]
  },
  {
   "cell_type": "markdown",
   "metadata": {},
   "source": [
    "9.ラムダ式\n",
    "D\n",
    "正解：D　"
   ]
  },
  {
   "cell_type": "markdown",
   "metadata": {},
   "source": [
    "10.docstring出力\n",
    "D？\n",
    "不正解：B　docstring の属性の参照→__doc__"
   ]
  }
 ],
 "metadata": {
  "kernelspec": {
   "display_name": "base",
   "language": "python",
   "name": "python3"
  },
  "language_info": {
   "codemirror_mode": {
    "name": "ipython",
    "version": 3
   },
   "file_extension": ".py",
   "mimetype": "text/x-python",
   "name": "python",
   "nbconvert_exporter": "python",
   "pygments_lexer": "ipython3",
   "version": "3.10.9"
  },
  "orig_nbformat": 4
 },
 "nbformat": 4,
 "nbformat_minor": 2
}
