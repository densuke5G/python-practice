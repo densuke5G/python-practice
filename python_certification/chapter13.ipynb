{
 "cells": [
  {
   "cell_type": "code",
   "execution_count": null,
   "metadata": {},
   "outputs": [],
   "source": []
  },
  {
   "cell_type": "markdown",
   "metadata": {},
   "source": [
    "1.特徴\n",
    "C　インタープリタ言語\n",
    "正解：C\n",
    "Pythonはインタープリタ言語"
   ]
  },
  {
   "cell_type": "markdown",
   "metadata": {},
   "source": [
    "2.対話モード\n",
    "A？\n",
    "不正解：B\n",
    "インタープリタの1次プロンプト→＞＞＞"
   ]
  },
  {
   "cell_type": "markdown",
   "metadata": {},
   "source": [
    "3.IF文\n",
    "C\n",
    "正解：C\n",
    "条件は上から処理される"
   ]
  },
  {
   "cell_type": "markdown",
   "metadata": {},
   "source": [
    "4.代入\n",
    "D\n",
    "正解：D\n",
    "多重代入"
   ]
  },
  {
   "cell_type": "markdown",
   "metadata": {},
   "source": [
    "5.計算\n",
    "C？　　//とは\n",
    "正解：C\n",
    "//は小数点切り捨て！"
   ]
  },
  {
   "cell_type": "markdown",
   "metadata": {},
   "source": [
    "6.フォーマット\n",
    "B?\n",
    "不正解：D\n",
    "フォーマット　小数点はmath.tau:.3f とかく"
   ]
  },
  {
   "cell_type": "markdown",
   "metadata": {},
   "source": [
    "7.リスト\n",
    "D\n",
    "正解：D\n",
    "-1は末尾"
   ]
  },
  {
   "cell_type": "markdown",
   "metadata": {},
   "source": [
    "8.スライス\n",
    "D\n",
    "正解：D\n",
    ":2　は0と1"
   ]
  },
  {
   "cell_type": "markdown",
   "metadata": {},
   "source": [
    "9.コーディングスタイル\n",
    "C？\n",
    "不正解：B\n",
    "インデントは空白4つ、タブは使わない！\n",
    "ソースコードは79行以上は折り返す！"
   ]
  },
  {
   "cell_type": "markdown",
   "metadata": {},
   "source": [
    "10.演算子\n",
    "C\n",
    "正解：C\n",
    "and とor"
   ]
  },
  {
   "cell_type": "markdown",
   "metadata": {},
   "source": [
    "11.for\n",
    "B?　末端は考慮される？\n",
    "正解：B\n",
    "range(1,7,2) は[1,3,5]　になる　終端は無視"
   ]
  },
  {
   "cell_type": "markdown",
   "metadata": {},
   "source": [
    "12.ループ\n",
    "B?\n",
    "正解：B\n",
    "for 終了はbreak"
   ]
  },
  {
   "cell_type": "markdown",
   "metadata": {},
   "source": [
    "13.変数\n",
    "D?\n",
    "不正解：C\n",
    "関数内で定義された変数は外から参照できない\n",
    "関数内で外側で定義されたグローバル変数には値を代入できない　→　関数外はグローバル変数！"
   ]
  },
  {
   "cell_type": "markdown",
   "metadata": {},
   "source": [
    "14.キーワード引数\n",
    "B\n",
    "不正解：D\n",
    "キーワード引数は後！　問題良く見ろ"
   ]
  },
  {
   "cell_type": "markdown",
   "metadata": {},
   "source": [
    "15.グローバル変数と関数\n",
    "C?\n",
    "不正解：B\n",
    "引数のデフォルト値→関数が定義された時点で行われる\n",
    "関数定義の後にグローバル変数を変更しても、引数のデフォルト値の値は変わらない！"
   ]
  },
  {
   "cell_type": "markdown",
   "metadata": {},
   "source": [
    "16.引数\n",
    "B\n",
    "正解：B\n",
    "要素を引数に展開"
   ]
  },
  {
   "cell_type": "markdown",
   "metadata": {},
   "source": [
    "17.ラムダ式\n",
    "D\n",
    "正解：D\n",
    "lambda 引数：式"
   ]
  },
  {
   "cell_type": "markdown",
   "metadata": {},
   "source": [
    "18.pop()\n",
    "C?\n",
    "正解：C\n",
    "リストをスタックとして使う方法\n",
    "すべて実行するとリストの順序が逆になる"
   ]
  },
  {
   "cell_type": "markdown",
   "metadata": {},
   "source": [
    "19.リスト\n",
    "D\n",
    "正解：D\n",
    "リストの入れ子構造　要素の長さに注意"
   ]
  },
  {
   "cell_type": "markdown",
   "metadata": {},
   "source": [
    "20.and 数の場合\n",
    "C?\n",
    "不正解：B\n",
    "短絡演算子について\n",
    "そもそも整数０→偽　1以上→真\n",
    "andはvalueが0の時点で評価をやめ、　resultは0になる\n",
    "orの場合、値が１になった時点で評価をやめ、値は１になる！"
   ]
  },
  {
   "cell_type": "markdown",
   "metadata": {},
   "source": [
    "21.ZIP\n",
    "B\n",
    "正解：B\n",
    "複数のイテレータから並列で要素を取得できる"
   ]
  },
  {
   "cell_type": "markdown",
   "metadata": {},
   "source": [
    "22.タプル生成\n",
    "D?\n",
    "正解：D\n",
    "カンマがあればタプルとして定義できる\n",
    "taple()を使う場合は\n",
    "中にリストのような[]が必要"
   ]
  },
  {
   "cell_type": "markdown",
   "metadata": {},
   "source": [
    "23.set\n",
    "A\n",
    "正解：A\n",
    "set →　集合\n",
    "追加した要素の順序は保持されない"
   ]
  },
  {
   "cell_type": "markdown",
   "metadata": {},
   "source": [
    "24.辞書　代入\n",
    "D\n",
    "正解：D\n",
    "辞書への要素の追加は　キー＝値　で行う\n",
    "削除はdel"
   ]
  },
  {
   "cell_type": "markdown",
   "metadata": {},
   "source": [
    "25.メインモジュール\n",
    "B\n",
    "正解：B\n",
    "if __name__ == \"__main__\": を記述する"
   ]
  },
  {
   "cell_type": "markdown",
   "metadata": {},
   "source": [
    "26.__init__.py\n",
    "C?\n",
    "正解：C\n",
    "相対インポート　1つ上の階層からインポートする\n",
    "from ..module import 名前"
   ]
  },
  {
   "cell_type": "markdown",
   "metadata": {},
   "source": [
    "27.open()\n",
    "A?\n",
    "不正解：B\n",
    "バイナリモードでの読み込み、rbオプション　b単体では使えない！"
   ]
  },
  {
   "cell_type": "markdown",
   "metadata": {},
   "source": [
    "28.エラー\n",
    "A\n",
    "正解：A\n",
    "in が抜けているSyntaxError"
   ]
  },
  {
   "cell_type": "markdown",
   "metadata": {},
   "source": [
    "29.例外\n",
    "B?\n",
    "不正解：C\n",
    "int()が使えないときはValueError?? TypeErrorじゃないのはなぜ\n",
    "そもそもint(\"123\")　が通るから ？\n",
    "int()は10進数の数字でなければエラー（文字列を渡すこと自体は正しい）"
   ]
  },
  {
   "cell_type": "code",
   "execution_count": 2,
   "metadata": {},
   "outputs": [
    {
     "name": "stdout",
     "output_type": "stream",
     "text": [
      "123\n"
     ]
    }
   ],
   "source": [
    "print(int(\"123\"))"
   ]
  },
  {
   "cell_type": "code",
   "execution_count": 1,
   "metadata": {},
   "outputs": [
    {
     "ename": "ValueError",
     "evalue": "invalid literal for int() with base 10: '回数'",
     "output_type": "error",
     "traceback": [
      "\u001b[1;31m---------------------------------------------------------------------------\u001b[0m",
      "\u001b[1;31mValueError\u001b[0m                                Traceback (most recent call last)",
      "Cell \u001b[1;32mIn[1], line 2\u001b[0m\n\u001b[0;32m      1\u001b[0m times \u001b[38;5;241m=\u001b[39m \u001b[38;5;124m\"\u001b[39m\u001b[38;5;124m回数\u001b[39m\u001b[38;5;124m\"\u001b[39m\n\u001b[1;32m----> 2\u001b[0m inttimes \u001b[38;5;241m=\u001b[39m \u001b[38;5;28;43mint\u001b[39;49m\u001b[43m(\u001b[49m\u001b[43mtimes\u001b[49m\u001b[43m)\u001b[49m\n\u001b[0;32m      3\u001b[0m \u001b[38;5;28mprint\u001b[39m(inttimes)\n",
      "\u001b[1;31mValueError\u001b[0m: invalid literal for int() with base 10: '回数'"
     ]
    }
   ],
   "source": [
    "times = \"回数\"\n",
    "inttimes = int(times)\n",
    "print(inttimes)"
   ]
  },
  {
   "cell_type": "markdown",
   "metadata": {},
   "source": [
    "30.ValueError\n",
    "B\n",
    "正解：B\n",
    "raise で例外を送出"
   ]
  },
  {
   "cell_type": "markdown",
   "metadata": {},
   "source": [
    "31.finally\n",
    "A?\n",
    "正解：A\n",
    "finally は絶対実行"
   ]
  },
  {
   "cell_type": "markdown",
   "metadata": {},
   "source": [
    "32.クラス\n",
    "C\n",
    "正解：C\n",
    "クラス変数　selfなし"
   ]
  },
  {
   "cell_type": "markdown",
   "metadata": {},
   "source": [
    "33.ローカル変数\n",
    "C\n",
    "正解：C\n",
    "ローカル変数の書き換え"
   ]
  },
  {
   "cell_type": "markdown",
   "metadata": {},
   "source": [
    "34.globモジュール\n",
    "C\n",
    "正解：C\n",
    "glob(\"*.txt\") と使う"
   ]
  },
  {
   "cell_type": "markdown",
   "metadata": {},
   "source": [
    "35.argparser()\n",
    "C？\n",
    "不正解：D\n",
    "add_argmentで引数の情報を追加できる\n",
    "何に使うの？　プログラム実行時に条件、追加情報を入力できる　　コマンドラインのプログラムに使う\n",
    "引数が1つの場合は[]はいらない"
   ]
  },
  {
   "cell_type": "markdown",
   "metadata": {},
   "source": [
    "36.reモジュール\n",
    "？？？？　不正解：\n",
    "正規表現　 説明不足過ぎるだろ\n",
    "\\1 1番目のグループ？？　これって辞書順ってコト?\n",
    "re.sub()では第一引数に正規表現パターン、第二引数に置換先文字列、第三引数に処理対象の文字列を指定する。\n",
    "\n",
    "([a-z] +) \\1 でtac tac とマッチしている\n",
    "でもなんで1番目のグループがtacなの？？"
   ]
  },
  {
   "cell_type": "markdown",
   "metadata": {},
   "source": [
    "37.unittest\n",
    "B?\n",
    "正解：\n",
    "assertEqual(a, b)の形"
   ]
  },
  {
   "cell_type": "markdown",
   "metadata": {},
   "source": [
    "38.内包表記\n",
    "C　pprint\n",
    "不正解：A\n",
    "ppriint は[]付きのリストで出力するため違う\n",
    "textwrap.fill() を使う"
   ]
  },
  {
   "cell_type": "markdown",
   "metadata": {},
   "source": [
    "39.仮想環境\n",
    "A\n",
    "不正解：C\n",
    "パッケージのバージョンを変更しても、別の仮想環境には影響がない"
   ]
  },
  {
   "cell_type": "markdown",
   "metadata": {},
   "source": [
    "40.入力履歴\n",
    "D?\n",
    "不正解：B\n",
    "対話モードの入力履歴\n",
    ".python_history コンマ付き！"
   ]
  },
  {
   "cell_type": "code",
   "execution_count": 6,
   "metadata": {},
   "outputs": [
    {
     "name": "stdout",
     "output_type": "stream",
     "text": [
      "65.0%\n"
     ]
    }
   ],
   "source": [
    "print(str(26/40 * 100) + \"%\")"
   ]
  },
  {
   "cell_type": "markdown",
   "metadata": {},
   "source": []
  }
 ],
 "metadata": {
  "kernelspec": {
   "display_name": "base",
   "language": "python",
   "name": "python3"
  },
  "language_info": {
   "codemirror_mode": {
    "name": "ipython",
    "version": 3
   },
   "file_extension": ".py",
   "mimetype": "text/x-python",
   "name": "python",
   "nbconvert_exporter": "python",
   "pygments_lexer": "ipython3",
   "version": "3.10.9"
  }
 },
 "nbformat": 4,
 "nbformat_minor": 2
}
