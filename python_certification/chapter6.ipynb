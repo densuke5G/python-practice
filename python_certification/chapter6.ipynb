{
 "cells": [
  {
   "cell_type": "code",
   "execution_count": null,
   "metadata": {},
   "outputs": [],
   "source": [
    "その他のコレクション"
   ]
  },
  {
   "cell_type": "markdown",
   "metadata": {},
   "source": [
    "1.deque\n",
    "C\n",
    "正解：C　dequeはpopleft()を持つ　左を取り出す"
   ]
  },
  {
   "cell_type": "markdown",
   "metadata": {},
   "source": [
    "2.タプル\n",
    "B？　tupleメソッドはあるのか\n",
    "不正解：D　tupleメソッドはリストなどが必要、カンマ区切りだけではダメ"
   ]
  },
  {
   "cell_type": "code",
   "execution_count": 2,
   "metadata": {},
   "outputs": [
    {
     "ename": "TypeError",
     "evalue": "tuple expected at most 1 argument, got 2",
     "output_type": "error",
     "traceback": [
      "\u001b[1;31m---------------------------------------------------------------------------\u001b[0m",
      "\u001b[1;31mTypeError\u001b[0m                                 Traceback (most recent call last)",
      "Cell \u001b[1;32mIn[2], line 3\u001b[0m\n\u001b[0;32m      1\u001b[0m taple2 \u001b[39m=\u001b[39m \u001b[39mtuple\u001b[39m([\u001b[39m\"\u001b[39m\u001b[39ma\u001b[39m\u001b[39m\"\u001b[39m, \u001b[39m\"\u001b[39m\u001b[39mc\u001b[39m\u001b[39m\"\u001b[39m])\n\u001b[1;32m----> 3\u001b[0m taple1 \u001b[39m=\u001b[39m \u001b[39mtuple\u001b[39;49m(\u001b[39m\"\u001b[39;49m\u001b[39ma\u001b[39;49m\u001b[39m\"\u001b[39;49m, \u001b[39m\"\u001b[39;49m\u001b[39mb\u001b[39;49m\u001b[39m\"\u001b[39;49m)\n",
      "\u001b[1;31mTypeError\u001b[0m: tuple expected at most 1 argument, got 2"
     ]
    }
   ],
   "source": [
    "taple2 = tuple([\"a\", \"c\"])\n",
    "\n",
    "taple1 = tuple(\"a\", \"b\")"
   ]
  },
  {
   "cell_type": "markdown",
   "metadata": {},
   "source": [
    "3.リストとタプル\n",
    "B\n",
    "正解：B　タプルは要素の追加はできない"
   ]
  },
  {
   "cell_type": "markdown",
   "metadata": {},
   "source": [
    "4.set\n",
    "D　集合？\n",
    "正解：D　追加した順番を保持しない、取り出すときも順不同"
   ]
  },
  {
   "cell_type": "markdown",
   "metadata": {},
   "source": [
    "5.set\n",
    "A\n",
    "正解：A　｛A｝- {B} で差集合を作成できる"
   ]
  },
  {
   "cell_type": "markdown",
   "metadata": {},
   "source": [
    "6.集合\n",
    "B\n",
    "正解：B　| で和集合　&で積集合積"
   ]
  },
  {
   "cell_type": "markdown",
   "metadata": {},
   "source": [
    "7.辞書の定義\n",
    "C？　リストが使えるか\n",
    "正解：C　タプルはキー、値として使えるが、リストはダメ"
   ]
  },
  {
   "cell_type": "markdown",
   "metadata": {},
   "source": [
    "8.辞書削除\n",
    "A？\n",
    "正解：A　\n",
    "[\"key\"] = 値　で辞書の項目追加\n",
    "del [\"key\"] で項目の削除"
   ]
  },
  {
   "cell_type": "markdown",
   "metadata": {},
   "source": [
    "9.キーの存在確認\n",
    "D　辞書はリストにできるのか？\n",
    "不正解：C　辞書はlist()でリストにすることが可能\n",
    "includes()というメソッドはない"
   ]
  },
  {
   "cell_type": "markdown",
   "metadata": {},
   "source": [
    "10.辞書内包表記\n",
    "D\n",
    "不正解：B キー：値の形for文"
   ]
  },
  {
   "cell_type": "code",
   "execution_count": 3,
   "metadata": {},
   "outputs": [
    {
     "name": "stdout",
     "output_type": "stream",
     "text": [
      "{1: 1, 3: 27, 6: 216}\n"
     ]
    }
   ],
   "source": [
    "d = {x:x**3 for x in (1,3,6)}\n",
    "print(d)"
   ]
  }
 ],
 "metadata": {
  "language_info": {
   "name": "python"
  },
  "orig_nbformat": 4
 },
 "nbformat": 4,
 "nbformat_minor": 2
}
