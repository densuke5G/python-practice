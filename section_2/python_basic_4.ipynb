{
  "cells": [
    {
      "cell_type": "markdown",
      "metadata": {
        "colab_type": "text",
        "id": "view-in-github"
      },
      "source": [
        "<a href=\"https://colab.research.google.com/github/yukinaga/minnano_ai/blob/master/section_2/python_basic_4.ipynb\" target=\"_parent\"><img src=\"https://colab.research.google.com/assets/colab-badge.svg\" alt=\"Open In Colab\"/></a>"
      ]
    },
    {
      "cell_type": "markdown",
      "metadata": {
        "id": "ewg_pUrO-m3m"
      },
      "source": [
        "# Pythonの基礎4\n",
        "Pythonの特殊なメソッドを解説します。  \n",
        "これらを活用することで、より短くて読みやすいコードを記述することが可能になります。"
      ]
    },
    {
      "cell_type": "markdown",
      "metadata": {
        "id": "BxlxFRAm-m3o"
      },
      "source": [
        "## ●`__init__`メソッド\n",
        "**`__init__`**は特殊なメソッドで、イニシャライザ、もしくはコンストラクタと呼ばれています。  \n",
        "このメソッドでは、インスタンスの生成時にインスタンスの初期設定を行うことができます。  \n",
        "以下のクラスでは、`__init__`メソッドでインスタンス変数aの初期設定を行っています。  "
      ]
    },
    {
      "cell_type": "code",
      "execution_count": null,
      "metadata": {
        "id": "xftbx6T4-m3p"
      },
      "outputs": [],
      "source": [
        "class Calc:  # Calcクラス\n",
        "    def __init__(self, a):  # __init__メソッド\n",
        "        self.a = a\n",
        "\n",
        "    def add(self, b):  # addメソッド\n",
        "        print(self.a + b)\n",
        "\n",
        "    def multiply(self, b):  # multiplyメソッド\n",
        "        print(self.a * b)"
      ]
    },
    {
      "cell_type": "code",
      "execution_count": 2,
      "metadata": {
        "id": "wrO8sv-WZHuo"
      },
      "outputs": [],
      "source": [
        "# 練習用\n",
        "class Calc:\n",
        "    def __init__(self, a):\n",
        "        self.a = a\n",
        "\n",
        "    def add(self, b):\n",
        "        print(self.a + b)\n",
        "\n",
        "    def multiply(self, b):\n",
        "        print(self.a * b)"
      ]
    },
    {
      "cell_type": "markdown",
      "metadata": {
        "id": "L8xd1JMv-m3s"
      },
      "source": [
        "以下では、インスタンスの生成時に、3という値をインスタンスに渡しています。  \n",
        "この保持された値は、後で計算に利用することができます。  "
      ]
    },
    {
      "cell_type": "code",
      "execution_count": null,
      "metadata": {
        "id": "-Tnd7UjE-m3t"
      },
      "outputs": [],
      "source": [
        "cl = Calc(3)  # インスタンスclを生成\n",
        "cl.add(4)  # 3 + 4\n",
        "cl.multiply(4) # 3 × 4"
      ]
    },
    {
      "cell_type": "code",
      "execution_count": 3,
      "metadata": {
        "id": "cAZfsS-vZKeC"
      },
      "outputs": [
        {
          "name": "stdout",
          "output_type": "stream",
          "text": [
            "7\n",
            "12\n"
          ]
        }
      ],
      "source": [
        "# 練習用\n",
        "cl = Calc(3)\n",
        "cl.add(4)\n",
        "cl.multiply(4)"
      ]
    },
    {
      "cell_type": "markdown",
      "metadata": {
        "id": "jH5DBIKLMpTn"
      },
      "source": [
        "このように、`__init__`メソッドを使えばインスタンスの生成時にインスタンスに値を渡すことができます。  \n",
        "そのため、何度も繰り返して使用したり、複数のメソッドで使う値があれば、`__init__`メソッドで設定するのが効率的になります。"
      ]
    },
    {
      "cell_type": "markdown",
      "metadata": {
        "id": "5iaX234BO1_c"
      },
      "source": [
        "## ●`__call__`メソッド\n",
        "`__call__`メソッドは、インスタンス名を使って呼び出すことができます。  \n",
        "以下では、`Calc`クラスに`__init__`メソッドの他に`__call__`メソッドを実装しています。"
      ]
    },
    {
      "cell_type": "code",
      "execution_count": null,
      "metadata": {
        "id": "_7Ct9UGnO1_p"
      },
      "outputs": [],
      "source": [
        "class Calc:  # Calcクラス\n",
        "    def __init__(self, a):  # __init__メソッド\n",
        "        self.a = a\n",
        "\n",
        "    def __call__(self, c):  # __call__メソッド\n",
        "        print(self.a * c + c)\n",
        "\n",
        "    def add(self, b):  # addメソッド\n",
        "        print(self.a + b)\n",
        "\n",
        "    def multiply(self, b):  # multiplyメソッド\n",
        "        print(self.a * b)"
      ]
    },
    {
      "cell_type": "code",
      "execution_count": 5,
      "metadata": {
        "id": "8t66JIKtO1_q"
      },
      "outputs": [],
      "source": [
        "# 練習用\n",
        "class Calc:\n",
        "    def __init__(self, a) :\n",
        "        self.a = a\n",
        "\n",
        "    def __call__(self, c):\n",
        "        print(self.a * c + c)"
      ]
    },
    {
      "cell_type": "markdown",
      "metadata": {
        "id": "zk0O973kRR88"
      },
      "source": [
        "以下では、インスタンスの名`cl`を使って`__call__`メソッドを呼び出しています。  "
      ]
    },
    {
      "cell_type": "code",
      "execution_count": null,
      "metadata": {
        "id": "TJnm8GNxRR9I"
      },
      "outputs": [],
      "source": [
        "cl = Calc(3)  # インスタンスclを生成\n",
        "\n",
        "# インスタンス名clを使って__call__メソッドを呼ぶ\n",
        "cl(5)  # 3 × 5 + 5"
      ]
    },
    {
      "cell_type": "code",
      "execution_count": 6,
      "metadata": {
        "id": "JXfHeV4ORR9J"
      },
      "outputs": [
        {
          "name": "stdout",
          "output_type": "stream",
          "text": [
            "20\n"
          ]
        }
      ],
      "source": [
        "# 練習用\n",
        "cl = Calc(3)\n",
        "cl(5)"
      ]
    },
    {
      "cell_type": "markdown",
      "metadata": {
        "id": "5Vw5ZL6xRR9J"
      },
      "source": [
        "このように、`__call__`メソッドを使えばメソッド名を記述する必要が無くなります。  \n",
        "頻繁に用いる処理を`__call__`メソッドに記述しておくことで、コードの記述量が少なくて済むようになります。"
      ]
    }
  ],
  "metadata": {
    "colab": {
      "authorship_tag": "ABX9TyN3hNu8RarK8NNezVjCT2mF",
      "collapsed_sections": [],
      "include_colab_link": true,
      "name": "python_basic_4.ipynb",
      "provenance": []
    },
    "kernelspec": {
      "display_name": "Python 3",
      "name": "python3"
    },
    "language_info": {
      "codemirror_mode": {
        "name": "ipython",
        "version": 3
      },
      "file_extension": ".py",
      "mimetype": "text/x-python",
      "name": "python",
      "nbconvert_exporter": "python",
      "pygments_lexer": "ipython3",
      "version": "3.10.9"
    }
  },
  "nbformat": 4,
  "nbformat_minor": 0
}
