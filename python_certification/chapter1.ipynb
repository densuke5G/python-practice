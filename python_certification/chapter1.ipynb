{
 "cells": [
  {
   "cell_type": "markdown",
   "metadata": {},
   "source": [
    "1.Pythonの特徴  \n",
    "C"
   ]
  },
  {
   "cell_type": "markdown",
   "metadata": {},
   "source": [
    "### 不正解：A\n",
    "Pythonはコンパイルが不要な言語！インタープリタ言語\n",
    "他のプログラム言語で機能拡張できるgcc？"
   ]
  },
  {
   "cell_type": "markdown",
   "metadata": {},
   "source": [
    "2.対話モード  \n",
    "B"
   ]
  },
  {
   "cell_type": "markdown",
   "metadata": {},
   "source": [
    "### 不正解：D\n",
    "プロンプト（>>>）はバージョン情報やヘルプの後に表示される"
   ]
  },
  {
   "cell_type": "markdown",
   "metadata": {},
   "source": [
    "Python 3.10.9 | packaged by Anaconda, Inc. | (main, Mar  1 2023, 18:18:15) [MSC v.1916 64 bit (AMD64)] on win32\n",
    "Type \"help\", \"copyright\", \"credits\" or \"license\" for more information.\n",
    ">>> "
   ]
  },
  {
   "cell_type": "markdown",
   "metadata": {},
   "source": [
    "3.文字コード  \n",
    "B　UTF-8"
   ]
  },
  {
   "cell_type": "markdown",
   "metadata": {},
   "source": [
    "### 正解：B\n",
    "デフォルトはUTF-8"
   ]
  },
  {
   "cell_type": "markdown",
   "metadata": {},
   "source": [
    "4.elif  \n",
    "C"
   ]
  },
  {
   "cell_type": "markdown",
   "metadata": {},
   "source": [
    "正解：B  \n",
    "問題をよく読め\n",
    "elifに引っかかった時点で終わる"
   ]
  },
  {
   "cell_type": "markdown",
   "metadata": {},
   "source": [
    "5.定義  \n",
    "C？"
   ]
  },
  {
   "cell_type": "markdown",
   "metadata": {},
   "source": [
    "正解：C　　\n",
    "多重代入という　a, b = 0, 1"
   ]
  },
  {
   "cell_type": "markdown",
   "metadata": {},
   "source": [
    "6.コーディングスタイル  \n",
    "C"
   ]
  },
  {
   "cell_type": "markdown",
   "metadata": {},
   "source": [
    "不正解：D\n",
    "インデントについて、タブは非推奨空白4つを使用する！"
   ]
  },
  {
   "cell_type": "markdown",
   "metadata": {},
   "source": [
    "7.文字列の記述  \n",
    "C"
   ]
  },
  {
   "cell_type": "markdown",
   "metadata": {},
   "source": [
    "正解：C\n",
    "\"\"\"はdocstringを書くときに使う"
   ]
  },
  {
   "cell_type": "markdown",
   "metadata": {},
   "source": [
    "8.コメント  \n",
    "B　Javaが//？"
   ]
  },
  {
   "cell_type": "markdown",
   "metadata": {},
   "source": [
    "不正解：A　　\n",
    "Pythonのコメント→＃　C言語などが//"
   ]
  },
  {
   "cell_type": "markdown",
   "metadata": {},
   "source": [
    "9.入力履歴  \n",
    "B？"
   ]
  },
  {
   "cell_type": "markdown",
   "metadata": {},
   "source": [
    "不正解：C　　\n",
    "Pythonのインタープリタモードの入力履歴は.python_historyという名前で保存される！"
   ]
  }
 ],
 "metadata": {
  "language_info": {
   "name": "python"
  },
  "orig_nbformat": 4
 },
 "nbformat": 4,
 "nbformat_minor": 2
}
