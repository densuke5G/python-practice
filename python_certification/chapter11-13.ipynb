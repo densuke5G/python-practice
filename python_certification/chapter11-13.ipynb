{
 "cells": [
  {
   "cell_type": "code",
   "execution_count": null,
   "metadata": {},
   "outputs": [],
   "source": []
  },
  {
   "cell_type": "markdown",
   "metadata": {},
   "source": [
    "chapter11\n",
    "\n",
    "1.B?\n",
    "正解：B\n",
    "getcwd chdir\n",
    "\n",
    "2.B\n",
    "正解：B\n",
    "\n",
    "3.B?\n",
    "不正解：C\n",
    "コマンドライン引数はsys.argv!\n",
    "\n",
    "4.D\n",
    "不正解：B\n",
    "headの方にも値があるよ\n",
    "\n",
    "5.A\n",
    "正解：A\n",
    "\n",
    "6.D\n",
    "正解：D\n",
    "\n",
    "7.D\n",
    "正解：D\n",
    "\n",
    "8.A??\n",
    "正解：A\n",
    "不偏分散　平均との差の2乗の和をデータ数-1で割って求める\n",
    "\n",
    "9.C\n",
    "不正解：D\n",
    "urllib.request.urlopen()\n",
    "urlopen!!\n",
    "\n",
    "10.A?\n",
    "正解：A\n",
    "strftime(\"%y-%m-%d\")\n",
    "\n",
    "11.C\n",
    "不正解：D\n",
    "よく読もう1年以上違う\n",
    "\n",
    "12.C\n",
    "不正解：D\n",
    "self.assertEqual(actual, expected) 　フツーの引数\n",
    "\n",
    "13.D\n",
    "正解：D\n",
    "\n"
   ]
  },
  {
   "cell_type": "markdown",
   "metadata": {},
   "source": [
    "chapter12\n",
    "\n",
    "1.C?\n",
    "正解：C\n",
    "\n",
    "2.A?\n",
    "正解：A\n",
    "python3 -m venv dirname\n",
    "source dirname/bin/activate\n",
    "\n",
    "3.C?\n",
    "正解：C\n",
    "インストール済みなら最新バージョンはインストールされない\n",
    "\n",
    "4.B\n",
    "正解：B\n"
   ]
  }
 ],
 "metadata": {
  "kernelspec": {
   "display_name": "base",
   "language": "python",
   "name": "python3"
  },
  "language_info": {
   "name": "python",
   "version": "3.10.9"
  }
 },
 "nbformat": 4,
 "nbformat_minor": 2
}
