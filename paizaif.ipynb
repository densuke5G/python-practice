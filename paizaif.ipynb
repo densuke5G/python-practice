{
 "cells": [
  {
   "cell_type": "code",
   "execution_count": 1,
   "metadata": {},
   "outputs": [
    {
     "name": "stdout",
     "output_type": "stream",
     "text": [
      "変数aの値は50未満です\n"
     ]
    }
   ],
   "source": [
    "a = 10\n",
    "\n",
    "if a < 50:\n",
    "    print(\"変数aの値は50未満です\")"
   ]
  },
  {
   "cell_type": "code",
   "execution_count": 2,
   "metadata": {},
   "outputs": [
    {
     "name": "stdout",
     "output_type": "stream",
     "text": [
      "変数aの値は100以上です\n"
     ]
    }
   ],
   "source": [
    "a = 100\n",
    "if a < 100:\n",
    "    print(\"変数aの値は100未満です\")\n",
    "else:\n",
    "    print(\"変数aの値は100以上です\")"
   ]
  },
  {
   "cell_type": "code",
   "execution_count": 1,
   "metadata": {},
   "outputs": [
    {
     "name": "stdout",
     "output_type": "stream",
     "text": [
      "変数aの値は100以上150未満\n"
     ]
    }
   ],
   "source": [
    "a = 100\n",
    "if a < 100:\n",
    "    print(\"変数aの値は100未満です\")\n",
    "elif 100 <= a < 150 :\n",
    "    print(\"変数aの値は100以上150未満\")\n",
    "else:\n",
    "    print(\"変数aの値はそれ以上です\")"
   ]
  },
  {
   "cell_type": "markdown",
   "metadata": {},
   "source": [
    "pass 文は「なにもしない」ことを表す文\n",
    "\n",
    "その節でなにも処理をしないときに書く"
   ]
  },
  {
   "cell_type": "code",
   "execution_count": 2,
   "metadata": {},
   "outputs": [],
   "source": [
    "a = -1\n",
    "if a < 0:\n",
    "    pass\n",
    "elif a < 18:\n",
    "    print(f\"{a}歳は未成年です\")\n",
    "else:\n",
    "    print(f\"{a}歳は成人です\")"
   ]
  },
  {
   "cell_type": "code",
   "execution_count": 4,
   "metadata": {},
   "outputs": [
    {
     "name": "stdout",
     "output_type": "stream",
     "text": [
      "True\n",
      "False\n"
     ]
    }
   ],
   "source": [
    "a, b = \"paiza\", \"paiza\"\n",
    "\n",
    "print(a == b)\n",
    "\n",
    "print(a != b)"
   ]
  },
  {
   "cell_type": "markdown",
   "metadata": {},
   "source": [
    "in 演算子は A in B のように使って、「A は B の要素として含まれるかどうか」を判定する演算子"
   ]
  },
  {
   "cell_type": "code",
   "execution_count": 6,
   "metadata": {},
   "outputs": [
    {
     "name": "stdout",
     "output_type": "stream",
     "text": [
      "True\n",
      "False\n"
     ]
    }
   ],
   "source": [
    "s = \"python\"\n",
    "\n",
    "print(\"t\" in s)\n",
    "print(\"t\" not in s)"
   ]
  }
 ],
 "metadata": {
  "kernelspec": {
   "display_name": "base",
   "language": "python",
   "name": "python3"
  },
  "language_info": {
   "codemirror_mode": {
    "name": "ipython",
    "version": 3
   },
   "file_extension": ".py",
   "mimetype": "text/x-python",
   "name": "python",
   "nbconvert_exporter": "python",
   "pygments_lexer": "ipython3",
   "version": "3.10.9"
  },
  "orig_nbformat": 4
 },
 "nbformat": 4,
 "nbformat_minor": 2
}
